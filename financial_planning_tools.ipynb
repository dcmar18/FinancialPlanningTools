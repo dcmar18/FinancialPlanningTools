{
 "cells": [
  {
   "cell_type": "markdown",
   "metadata": {},
   "source": [
    "# Financial Planning with APIs and Simulations\n",
    "\n",
    "In this Challenge, you’ll create two financial analysis tools by using a single Jupyter notebook:\n",
    "\n",
    "Part 1: A financial planner for emergencies. The members will be able to use this tool to visualize their current savings. The members can then determine if they have enough reserves for an emergency fund.\n",
    "\n",
    "Part 2: A financial planner for retirement. This tool will forecast the performance of their retirement portfolio in 30 years. To do this, the tool will make an Alpaca API call via the Alpaca SDK to get historical price data for use in Monte Carlo simulations.\n",
    "\n",
    "You’ll use the information from the Monte Carlo simulation to answer questions about the portfolio in your Jupyter notebook.\n",
    "\n"
   ]
  },
  {
   "cell_type": "code",
   "execution_count": 32,
   "metadata": {},
   "outputs": [],
   "source": [
    "# Import the required libraries and dependencies\n",
    "import os\n",
    "import requests\n",
    "import json\n",
    "import pandas as pd\n",
    "from dotenv import load_dotenv\n",
    "import alpaca_trade_api as tradeapi\n",
    "from MCForecastTools import MCSimulation\n",
    "\n",
    "%matplotlib inline"
   ]
  },
  {
   "cell_type": "code",
   "execution_count": 33,
   "metadata": {},
   "outputs": [
    {
     "data": {
      "text/plain": [
       "True"
      ]
     },
     "execution_count": 33,
     "metadata": {},
     "output_type": "execute_result"
    }
   ],
   "source": [
    "# Load the environment variables from the .env file\n",
    "#by calling the load_dotenv function\n",
    "load_dotenv()"
   ]
  },
  {
   "cell_type": "markdown",
   "metadata": {},
   "source": [
    "## Part 1: Create a Financial Planner for Emergencies"
   ]
  },
  {
   "cell_type": "markdown",
   "metadata": {},
   "source": [
    "### Evaluate the Cryptocurrency Wallet by Using the Requests Library\n",
    "\n",
    "In this section, you’ll determine the current value of a member’s cryptocurrency wallet. You’ll collect the current prices for the Bitcoin and Ethereum cryptocurrencies by using the Python Requests library. For the prototype, you’ll assume that the member holds the 1.2 Bitcoins (BTC) and 5.3 Ethereum coins (ETH). To do all this, complete the following steps:\n",
    "\n",
    "1. Create a variable named `monthly_income`, and set its value to `12000`.\n",
    "\n",
    "2. Use the Requests library to get the current price (in US dollars) of Bitcoin (BTC) and Ethereum (ETH) by using the API endpoints that the starter code supplies.\n",
    "\n",
    "3. Navigate the JSON response object to access the current price of each coin, and store each in a variable.\n",
    "\n",
    "    > **Hint** Note the specific identifier for each cryptocurrency in the API JSON response. The Bitcoin identifier is `1`, and the Ethereum identifier is `1027`.\n",
    "\n",
    "4. Calculate the value, in US dollars, of the current amount of each cryptocurrency and of the entire cryptocurrency wallet.\n",
    "\n"
   ]
  },
  {
   "cell_type": "code",
   "execution_count": 34,
   "metadata": {},
   "outputs": [],
   "source": [
    "# The current number of coins for each cryptocurrency asset held in the portfolio.\n",
    "btc_coins = 1.2\n",
    "eth_coins = 5.3"
   ]
  },
  {
   "cell_type": "markdown",
   "metadata": {},
   "source": [
    "#### Step 1: Create a variable named `monthly_income`, and set its value to `12000`."
   ]
  },
  {
   "cell_type": "code",
   "execution_count": 67,
   "metadata": {},
   "outputs": [
    {
     "name": "stdout",
     "output_type": "stream",
     "text": [
      "12000\n"
     ]
    }
   ],
   "source": [
    "# The monthly amount for the member's household income\n",
    "monthly_income = 12000\n",
    "print(monthly_income)\n"
   ]
  },
  {
   "cell_type": "markdown",
   "metadata": {},
   "source": [
    "#### Review the endpoint URLs for the API calls to Free Crypto API in order to get the current pricing information for both BTC and ETH."
   ]
  },
  {
   "cell_type": "code",
   "execution_count": 68,
   "metadata": {},
   "outputs": [],
   "source": [
    "# The Free Crypto API Call endpoint URLs for the held cryptocurrency assets\n",
    "btc_url = \"https://api.alternative.me/v2/ticker/Bitcoin/?convert=USD\"\n",
    "eth_url = \"https://api.alternative.me/v2/ticker/Ethereum/?convert=USD\""
   ]
  },
  {
   "cell_type": "markdown",
   "metadata": {},
   "source": [
    "#### Step 2. Use the Requests library to get the current price (in US dollars) of Bitcoin (BTC) and Ethereum (ETH) by using the API endpoints that the starter code supplied."
   ]
  },
  {
   "cell_type": "code",
   "execution_count": 69,
   "metadata": {},
   "outputs": [
    {
     "name": "stdout",
     "output_type": "stream",
     "text": [
      "{\n",
      "    \"data\": {\n",
      "        \"1\": {\n",
      "            \"circulating_supply\": 18827293,\n",
      "            \"id\": 1,\n",
      "            \"last_updated\": 1632713342,\n",
      "            \"max_supply\": 21000000,\n",
      "            \"name\": \"Bitcoin\",\n",
      "            \"quotes\": {\n",
      "                \"USD\": {\n",
      "                    \"market_cap\": 833692072370,\n",
      "                    \"percent_change_1h\": 0.08460449517874,\n",
      "                    \"percent_change_24h\": 4.21913075608395,\n",
      "                    \"percent_change_7d\": -6.83024030355312,\n",
      "                    \"percentage_change_1h\": 0.08460449517874,\n",
      "                    \"percentage_change_24h\": 4.21913075608395,\n",
      "                    \"percentage_change_7d\": -6.83024030355312,\n",
      "                    \"price\": 44135.0,\n",
      "                    \"volume_24h\": 32106349492\n",
      "                }\n",
      "            },\n",
      "            \"rank\": 1,\n",
      "            \"symbol\": \"BTC\",\n",
      "            \"total_supply\": 18827293,\n",
      "            \"website_slug\": \"bitcoin\"\n",
      "        }\n",
      "    },\n",
      "    \"metadata\": {\n",
      "        \"error\": null,\n",
      "        \"num_cryptocurrencies\": 3105,\n",
      "        \"timestamp\": 1632713342\n",
      "    }\n",
      "}\n"
     ]
    }
   ],
   "source": [
    "# Using the Python requests library, make an API call to access the current price of BTC\n",
    "btc_response = requests.get(btc_url).json()\n",
    "# Use the json.dumps function to review the response data from the API call\n",
    "# Use the indent and sort_keys parameters to make the response object readable\n",
    "print(json.dumps(btc_response, indent=4, sort_keys=True))"
   ]
  },
  {
   "cell_type": "code",
   "execution_count": 70,
   "metadata": {},
   "outputs": [
    {
     "name": "stdout",
     "output_type": "stream",
     "text": [
      "{\n",
      "    \"data\": {\n",
      "        \"1027\": {\n",
      "            \"circulating_supply\": 117690273,\n",
      "            \"id\": 1027,\n",
      "            \"last_updated\": 1632713353,\n",
      "            \"max_supply\": 0,\n",
      "            \"name\": \"Ethereum\",\n",
      "            \"quotes\": {\n",
      "                \"USD\": {\n",
      "                    \"market_cap\": 370740961233,\n",
      "                    \"percent_change_1h\": -0.0818463949644091,\n",
      "                    \"percent_change_24h\": 8.76628932327565,\n",
      "                    \"percent_change_7d\": -5.97028432305225,\n",
      "                    \"percentage_change_1h\": -0.0818463949644091,\n",
      "                    \"percentage_change_24h\": 8.76628932327565,\n",
      "                    \"percentage_change_7d\": -5.97028432305225,\n",
      "                    \"price\": 3136.72,\n",
      "                    \"volume_24h\": 25701771113\n",
      "                }\n",
      "            },\n",
      "            \"rank\": 2,\n",
      "            \"symbol\": \"ETH\",\n",
      "            \"total_supply\": 117690273,\n",
      "            \"website_slug\": \"ethereum\"\n",
      "        }\n",
      "    },\n",
      "    \"metadata\": {\n",
      "        \"error\": null,\n",
      "        \"num_cryptocurrencies\": 3105,\n",
      "        \"timestamp\": 1632713353\n",
      "    }\n",
      "}\n"
     ]
    }
   ],
   "source": [
    "# Using the Python requests library, make an API call to access the current price ETH\n",
    "eth_response = requests.get(eth_url).json()\n",
    "\n",
    "# Use the json.dumps function to review the response data from the API call\n",
    "# Use the indent and sort_keys parameters to make the response object readable\n",
    "print(json.dumps(eth_response, indent=4,sort_keys=True))\n"
   ]
  },
  {
   "cell_type": "markdown",
   "metadata": {},
   "source": [
    "#### Step 3: Navigate the JSON response object to access the current price of each coin, and store each in a variable."
   ]
  },
  {
   "cell_type": "code",
   "execution_count": 71,
   "metadata": {},
   "outputs": [
    {
     "name": "stdout",
     "output_type": "stream",
     "text": [
      "The price for BTC is: $44135.0\n"
     ]
    }
   ],
   "source": [
    "# Navigate the BTC response object to access the current price of BTC\n",
    "btc_price = btc_response['data']['1']['quotes']['USD']['price']\n",
    "# Print the current price of BTC\n",
    "print(f\"The price for BTC is: ${btc_price}\")\n"
   ]
  },
  {
   "cell_type": "code",
   "execution_count": 72,
   "metadata": {},
   "outputs": [
    {
     "name": "stdout",
     "output_type": "stream",
     "text": [
      "The price for BTC is: $3136.72\n"
     ]
    }
   ],
   "source": [
    "# Navigate the BTC response object to access the current price of ETH\n",
    "eth_price =  eth_response['data']['1027']['quotes']['USD']['price']\n",
    "# Print the current price of ETH\n",
    "print(f\"The price for BTC is: ${eth_price}\")\n"
   ]
  },
  {
   "cell_type": "markdown",
   "metadata": {},
   "source": [
    "### Step 4: Calculate the value, in US dollars, of the current amount of each cryptocurrency and of the entire cryptocurrency wallet."
   ]
  },
  {
   "cell_type": "code",
   "execution_count": 73,
   "metadata": {},
   "outputs": [
    {
     "name": "stdout",
     "output_type": "stream",
     "text": [
      "The current value of holdings of BTC in USD is: $52962.00\n"
     ]
    }
   ],
   "source": [
    "# Compute the current value of the BTC holding \n",
    "btc_value = btc_price * btc_coins\n",
    "\n",
    "# Print current value of your holding in BTC\n",
    "print(f\"The current value of holdings of BTC in USD is: ${btc_value:.2f}\")\n"
   ]
  },
  {
   "cell_type": "code",
   "execution_count": 74,
   "metadata": {},
   "outputs": [
    {
     "name": "stdout",
     "output_type": "stream",
     "text": [
      "The current value of holdings of ETH ins USD is: $16624.62\n"
     ]
    }
   ],
   "source": [
    "# Compute the current value of the ETH holding \n",
    "eth_value = eth_price * eth_coins\n",
    "\n",
    "# Print current value of your holding in ETH\n",
    "print(f\"The current value of holdings of ETH ins USD is: ${eth_value:.2f}\")\n"
   ]
  },
  {
   "cell_type": "code",
   "execution_count": 75,
   "metadata": {},
   "outputs": [
    {
     "name": "stdout",
     "output_type": "stream",
     "text": [
      "The current cryptocurrency wallet balance is: $69586.62\n"
     ]
    }
   ],
   "source": [
    "# Compute the total value of the cryptocurrency wallet\n",
    "# Add the value of the BTC holding to the value of the ETH holding\n",
    "total_crypto_wallet = btc_value + eth_value\n",
    "\n",
    "# Print current cryptocurrency wallet balance\n",
    "print(f\"The current cryptocurrency wallet balance is: ${total_crypto_wallet:.2f}\")\n"
   ]
  },
  {
   "cell_type": "markdown",
   "metadata": {},
   "source": [
    "### Evaluate the Stock and Bond Holdings by Using the Alpaca SDK\n",
    "\n",
    "In this section, you’ll determine the current value of a member’s stock and bond holdings. You’ll make an API call to Alpaca via the Alpaca SDK to get the current closing prices of the SPDR S&P 500 ETF Trust (ticker: SPY) and of the iShares Core US Aggregate Bond ETF (ticker: AGG). For the prototype, assume that the member holds 110 shares of SPY, which represents the stock portion of their portfolio, and 200 shares of AGG, which represents the bond portion. To do all this, complete the following steps:\n",
    "\n",
    "1. In the `Starter_Code` folder, create an environment file (`.env`) to store the values of your Alpaca API key and Alpaca secret key.\n",
    "\n",
    "2. Set the variables for the Alpaca API and secret keys. Using the Alpaca SDK, create the Alpaca `tradeapi.REST` object. In this object, include the parameters for the Alpaca API key, the secret key, and the version number.\n",
    "\n",
    "3. Set the following parameters for the Alpaca API call:\n",
    "\n",
    "    - `tickers`: Use the tickers for the member’s stock and bond holdings.\n",
    "\n",
    "    - `timeframe`: Use a time frame of one day.\n",
    "\n",
    "    - `start_date` and `end_date`: Use the same date for these parameters, and format them with the date of the previous weekday (or `2020-08-07`). This is because you want the one closing price for the most-recent trading day.\n",
    "\n",
    "4. Get the current closing prices for `SPY` and `AGG` by using the Alpaca `get_barset` function. Format the response as a Pandas DataFrame by including the `df` property at the end of the `get_barset` function.\n",
    "\n",
    "5. Navigating the Alpaca response DataFrame, select the `SPY` and `AGG` closing prices, and store them as variables.\n",
    "\n",
    "6. Calculate the value, in US dollars, of the current amount of shares in each of the stock and bond portions of the portfolio, and print the results.\n"
   ]
  },
  {
   "cell_type": "markdown",
   "metadata": {},
   "source": [
    "#### Review the total number of shares held in both (SPY) and (AGG)."
   ]
  },
  {
   "cell_type": "code",
   "execution_count": 76,
   "metadata": {},
   "outputs": [],
   "source": [
    "# Current amount of shares held in both the stock (SPY) and bond (AGG) portion of the portfolio.\n",
    "spy_shares = 110\n",
    "agg_shares = 200\n"
   ]
  },
  {
   "cell_type": "markdown",
   "metadata": {},
   "source": [
    "#### Step 1: In the `Starter_Code` folder, create an environment file (`.env`) to store the values of your Alpaca API key and Alpaca secret key."
   ]
  },
  {
   "cell_type": "markdown",
   "metadata": {},
   "source": [
    "#### Step 2: Set the variables for the Alpaca API and secret keys. Using the Alpaca SDK, create the Alpaca `tradeapi.REST` object. In this object, include the parameters for the Alpaca API key, the secret key, and the version number."
   ]
  },
  {
   "cell_type": "code",
   "execution_count": 77,
   "metadata": {},
   "outputs": [
    {
     "name": "stdout",
     "output_type": "stream",
     "text": [
      "<class 'str'>\n",
      "<class 'str'>\n"
     ]
    }
   ],
   "source": [
    "# Set the variables for the Alpaca API and secret keys\n",
    "alpaca_api_key = os.getenv('ALPACA_API_KEY')\n",
    "alpaca_secret_key = os.getenv('ALPACA_SECRET_KEY')\n",
    "print(type(alpaca_api_key))\n",
    "print(type(alpaca_secret_key))\n",
    "\n",
    "# Create the Alpaca tradeapi.REST object\n",
    "alpaca = tradeapi.REST(alpaca_api_key,alpaca_secret_key,api_version='v2')\n"
   ]
  },
  {
   "cell_type": "markdown",
   "metadata": {},
   "source": [
    "#### Step 3: Set the following parameters for the Alpaca API call:\n",
    "\n",
    "- `tickers`: Use the tickers for the member’s stock and bond holdings.\n",
    "\n",
    "- `timeframe`: Use a time frame of one day.\n",
    "\n",
    "- `start_date` and `end_date`: Use the same date for these parameters, and format them with the date of the previous weekday (or `2020-08-07`). This is because you want the one closing price for the most-recent trading day.\n"
   ]
  },
  {
   "cell_type": "code",
   "execution_count": 78,
   "metadata": {},
   "outputs": [],
   "source": [
    "# Set the tickers for both the bond and stock portion of the portfolio\n",
    "tickers = ['SPY','AGG']\n",
    "\n",
    "# Set timeframe to 1D \n",
    "timeframe = '1D'\n",
    "\n",
    "# Format current date as ISO format\n",
    "# Set both the start and end date at the date of your prior weekday \n",
    "# This will give you the closing price of the previous trading day\n",
    "# Alternatively you can use a start and end date of 2020-08-07\n",
    "start_date = pd.Timestamp('2020-08-07', tz=\"America/New_York\").isoformat()\n",
    "end_date = pd.Timestamp('2020-08-08', tz=\"America/New_York\").isoformat()\n"
   ]
  },
  {
   "cell_type": "markdown",
   "metadata": {},
   "source": [
    "#### Step 4: Get the current closing prices for `SPY` and `AGG` by using the Alpaca `get_barset` function. Format the response as a Pandas DataFrame by including the `df` property at the end of the `get_barset` function."
   ]
  },
  {
   "cell_type": "code",
   "execution_count": 79,
   "metadata": {},
   "outputs": [
    {
     "data": {
      "text/html": [
       "<div>\n",
       "<style scoped>\n",
       "    .dataframe tbody tr th:only-of-type {\n",
       "        vertical-align: middle;\n",
       "    }\n",
       "\n",
       "    .dataframe tbody tr th {\n",
       "        vertical-align: top;\n",
       "    }\n",
       "\n",
       "    .dataframe thead tr th {\n",
       "        text-align: left;\n",
       "    }\n",
       "\n",
       "    .dataframe thead tr:last-of-type th {\n",
       "        text-align: right;\n",
       "    }\n",
       "</style>\n",
       "<table border=\"1\" class=\"dataframe\">\n",
       "  <thead>\n",
       "    <tr>\n",
       "      <th></th>\n",
       "      <th colspan=\"5\" halign=\"left\">AGG</th>\n",
       "      <th colspan=\"5\" halign=\"left\">SPY</th>\n",
       "    </tr>\n",
       "    <tr>\n",
       "      <th></th>\n",
       "      <th>open</th>\n",
       "      <th>high</th>\n",
       "      <th>low</th>\n",
       "      <th>close</th>\n",
       "      <th>volume</th>\n",
       "      <th>open</th>\n",
       "      <th>high</th>\n",
       "      <th>low</th>\n",
       "      <th>close</th>\n",
       "      <th>volume</th>\n",
       "    </tr>\n",
       "    <tr>\n",
       "      <th>time</th>\n",
       "      <th></th>\n",
       "      <th></th>\n",
       "      <th></th>\n",
       "      <th></th>\n",
       "      <th></th>\n",
       "      <th></th>\n",
       "      <th></th>\n",
       "      <th></th>\n",
       "      <th></th>\n",
       "      <th></th>\n",
       "    </tr>\n",
       "  </thead>\n",
       "  <tbody>\n",
       "    <tr>\n",
       "      <th>2020-08-07 00:00:00-04:00</th>\n",
       "      <td>119.66</td>\n",
       "      <td>119.73</td>\n",
       "      <td>119.395</td>\n",
       "      <td>119.445</td>\n",
       "      <td>8830420</td>\n",
       "      <td>333.28</td>\n",
       "      <td>334.88</td>\n",
       "      <td>332.3</td>\n",
       "      <td>334.55</td>\n",
       "      <td>98710236</td>\n",
       "    </tr>\n",
       "  </tbody>\n",
       "</table>\n",
       "</div>"
      ],
      "text/plain": [
       "                              AGG                                        SPY  \\\n",
       "                             open    high      low    close   volume    open   \n",
       "time                                                                           \n",
       "2020-08-07 00:00:00-04:00  119.66  119.73  119.395  119.445  8830420  333.28   \n",
       "\n",
       "                                                            \n",
       "                             high    low   close    volume  \n",
       "time                                                        \n",
       "2020-08-07 00:00:00-04:00  334.88  332.3  334.55  98710236  "
      ]
     },
     "execution_count": 79,
     "metadata": {},
     "output_type": "execute_result"
    }
   ],
   "source": [
    "# Use the Alpaca get_barset function to get current closing prices the portfolio\n",
    "# Be sure to set the `df` property after the function to format the response object as a DataFrame\n",
    "df_portfolio = alpaca.get_barset(\n",
    "    tickers,\n",
    "    timeframe,\n",
    "    start = start_date,\n",
    "    end = end_date\n",
    ").df\n",
    "\n",
    "# Review the first 5 rows of the Alpaca DataFrame\n",
    "df_portfolio.head()\n"
   ]
  },
  {
   "cell_type": "markdown",
   "metadata": {},
   "source": [
    "#### Step 5: Navigating the Alpaca response DataFrame, select the `SPY` and `AGG` closing prices, and store them as variables."
   ]
  },
  {
   "cell_type": "code",
   "execution_count": 80,
   "metadata": {},
   "outputs": [
    {
     "name": "stdout",
     "output_type": "stream",
     "text": [
      "119.445\n"
     ]
    }
   ],
   "source": [
    "# Access the closing price for AGG from the Alpaca DataFrame\n",
    "# Converting the value to a floating point number\n",
    "agg_close_price = df_portfolio['AGG']['close'].item()\n",
    "\n",
    "# Print the AGG closing price\n",
    "print(agg_close_price)\n"
   ]
  },
  {
   "cell_type": "code",
   "execution_count": 81,
   "metadata": {},
   "outputs": [
    {
     "name": "stdout",
     "output_type": "stream",
     "text": [
      "334.55\n"
     ]
    }
   ],
   "source": [
    "# Access the closing price for SPY from the Alpaca DataFrame\n",
    "# Converting the value to a floating point number\n",
    "spy_close_price = df_portfolio['SPY']['close'].item()\n",
    "# Print the SPY closing price\n",
    "print(spy_close_price)\n"
   ]
  },
  {
   "cell_type": "markdown",
   "metadata": {},
   "source": [
    "#### Step 6: Calculate the value, in US dollars, of the current amount of shares in each of the stock and bond portions of the portfolio, and print the results."
   ]
  },
  {
   "cell_type": "code",
   "execution_count": 82,
   "metadata": {},
   "outputs": [
    {
     "name": "stdout",
     "output_type": "stream",
     "text": [
      "Current value of AGG in portfolio is: $23889.00\n"
     ]
    }
   ],
   "source": [
    "# Calculate the current value of the bond portion of the portfolio\n",
    "agg_value = agg_shares * agg_close_price\n",
    "\n",
    "# Print the current value of the bond portfolio\n",
    "print(f\"Current value of AGG in portfolio is: ${agg_value:.2f}\")\n"
   ]
  },
  {
   "cell_type": "code",
   "execution_count": 83,
   "metadata": {},
   "outputs": [
    {
     "name": "stdout",
     "output_type": "stream",
     "text": [
      "Current value of SPY in portfolio is: $36800.50\n"
     ]
    }
   ],
   "source": [
    "# Calculate the current value of the stock portion of the portfolio\n",
    "spy_value = spy_shares * spy_close_price\n",
    "\n",
    "# Print the current value of the stock portfolio\n",
    "print(f\"Current value of SPY in portfolio is: ${spy_value:.2f}\")\n"
   ]
  },
  {
   "cell_type": "code",
   "execution_count": 84,
   "metadata": {},
   "outputs": [
    {
     "name": "stdout",
     "output_type": "stream",
     "text": [
      "The current value of staoncks and bond in the portfolio is: $60689.50\n"
     ]
    }
   ],
   "source": [
    "# Calculate the total value of the stock and bond portion of the portfolio\n",
    "total_stocks_bonds = agg_value + spy_value\n",
    "\n",
    "# Print the current balance of the stock and bond portion of the portfolio\n",
    "print(f\"The current value of staoncks and bond in the portfolio is: ${total_stocks_bonds:.2f}\")\n"
   ]
  },
  {
   "cell_type": "code",
   "execution_count": 85,
   "metadata": {},
   "outputs": [
    {
     "name": "stdout",
     "output_type": "stream",
     "text": [
      "The total value of the member's entire savings portfolio is: $130276.12\n"
     ]
    }
   ],
   "source": [
    "# Calculate the total value of the member's entire savings portfolio\n",
    "# Add the value of the cryptocurrency walled to the value of the total stocks and bonds\n",
    "total_portfolio = total_crypto_wallet + total_stocks_bonds\n",
    "\n",
    "# Print current portfolio balance\n",
    "print(f\"The total value of the member's entire savings portfolio is: ${total_portfolio:.2f}\")\n"
   ]
  },
  {
   "cell_type": "markdown",
   "metadata": {},
   "source": [
    "### Evaluate the Emergency Fund\n",
    "\n",
    "In this section, you’ll use the valuations for the cryptocurrency wallet and for the stock and bond portions of the portfolio to determine if the credit union member has enough savings to build an emergency fund into their financial plan. To do this, complete the following steps:\n",
    "\n",
    "1. Create a Python list named `savings_data` that has two elements. The first element contains the total value of the cryptocurrency wallet. The second element contains the total value of the stock and bond portions of the portfolio.\n",
    "\n",
    "2. Use the `savings_data` list to create a Pandas DataFrame named `savings_df`, and then display this DataFrame. The function to create the DataFrame should take the following three parameters:\n",
    "\n",
    "    - `savings_data`: Use the list that you just created.\n",
    "\n",
    "    - `columns`: Set this parameter equal to a Python list with a single value called `amount`.\n",
    "\n",
    "    - `index`: Set this parameter equal to a Python list with the values of `crypto` and `stock/bond`.\n",
    "\n",
    "3. Use the `savings_df` DataFrame to plot a pie chart that visualizes the composition of the member’s portfolio. The y-axis of the pie chart uses `amount`. Be sure to add a title.\n",
    "\n",
    "4. Using Python, determine if the current portfolio has enough to create an emergency fund as part of the member’s financial plan. Ideally, an emergency fund should equal to three times the member’s monthly income. To do this, implement the following steps:\n",
    "\n",
    "    1. Create a variable named `emergency_fund_value`, and set it equal to three times the value of the member’s `monthly_income` of $12000. (You set this earlier in Part 1).\n",
    "\n",
    "    2. Create a series of three if statements to determine if the member’s total portfolio is large enough to fund the emergency portfolio:\n",
    "\n",
    "        1. If the total portfolio value is greater than the emergency fund value, display a message congratulating the member for having enough money in this fund.\n",
    "\n",
    "        2. Else if the total portfolio value is equal to the emergency fund value, display a message congratulating the member on reaching this important financial goal.\n",
    "\n",
    "        3. Else the total portfolio is less than the emergency fund value, so display a message showing how many dollars away the member is from reaching the goal. (Subtract the total portfolio value from the emergency fund value.)\n"
   ]
  },
  {
   "cell_type": "markdown",
   "metadata": {},
   "source": [
    "#### Step 1: Create a Python list named `savings_data` that has two elements. The first element contains the total value of the cryptocurrency wallet. The second element contains the total value of the stock and bond portions of the portfolio."
   ]
  },
  {
   "cell_type": "code",
   "execution_count": 86,
   "metadata": {},
   "outputs": [
    {
     "data": {
      "text/plain": [
       "[69586.616, 60689.5]"
      ]
     },
     "execution_count": 86,
     "metadata": {},
     "output_type": "execute_result"
    }
   ],
   "source": [
    "# Consolidate financial assets data into a Python list\n",
    "savings_data = [total_crypto_wallet,total_stocks_bonds]\n",
    "\n",
    "# Review the Python list savings_data\n",
    "savings_data\n",
    "    "
   ]
  },
  {
   "cell_type": "markdown",
   "metadata": {},
   "source": [
    "#### Step 2: Use the `savings_data` list to create a Pandas DataFrame named `savings_df`, and then display this DataFrame. The function to create the DataFrame should take the following three parameters:\n",
    "\n",
    "- `savings_data`: Use the list that you just created.\n",
    "\n",
    "- `columns`: Set this parameter equal to a Python list with a single value called `amount`.\n",
    "\n",
    "- `index`: Set this parameter equal to a Python list with the values of `crypto` and `stock/bond`.\n"
   ]
  },
  {
   "cell_type": "code",
   "execution_count": 87,
   "metadata": {},
   "outputs": [
    {
     "data": {
      "text/html": [
       "<div>\n",
       "<style scoped>\n",
       "    .dataframe tbody tr th:only-of-type {\n",
       "        vertical-align: middle;\n",
       "    }\n",
       "\n",
       "    .dataframe tbody tr th {\n",
       "        vertical-align: top;\n",
       "    }\n",
       "\n",
       "    .dataframe thead th {\n",
       "        text-align: right;\n",
       "    }\n",
       "</style>\n",
       "<table border=\"1\" class=\"dataframe\">\n",
       "  <thead>\n",
       "    <tr style=\"text-align: right;\">\n",
       "      <th></th>\n",
       "      <th>amount</th>\n",
       "    </tr>\n",
       "  </thead>\n",
       "  <tbody>\n",
       "    <tr>\n",
       "      <th>cyrpto</th>\n",
       "      <td>69586.616</td>\n",
       "    </tr>\n",
       "    <tr>\n",
       "      <th>stock/bond</th>\n",
       "      <td>60689.500</td>\n",
       "    </tr>\n",
       "  </tbody>\n",
       "</table>\n",
       "</div>"
      ],
      "text/plain": [
       "               amount\n",
       "cyrpto      69586.616\n",
       "stock/bond  60689.500"
      ]
     },
     "execution_count": 87,
     "metadata": {},
     "output_type": "execute_result"
    }
   ],
   "source": [
    "# Create a Pandas DataFrame called savings_df \n",
    "savings_df = pd.DataFrame(savings_data, columns=['amount'],index=['cyrpto','stock/bond'])\n",
    "\n",
    "# Display the savings_df DataFrame\n",
    "savings_df\n"
   ]
  },
  {
   "cell_type": "markdown",
   "metadata": {},
   "source": [
    "#### Step 3: Use the `savings_df` DataFrame to plot a pie chart that visualizes the composition of the member’s portfolio. The y-axis of the pie chart uses `amount`. Be sure to add a title."
   ]
  },
  {
   "cell_type": "code",
   "execution_count": 88,
   "metadata": {},
   "outputs": [
    {
     "data": {
      "text/plain": [
       "<AxesSubplot:title={'center':'Distribution of cryptocurrency & stocks/bonds'}, ylabel='amount'>"
      ]
     },
     "execution_count": 88,
     "metadata": {},
     "output_type": "execute_result"
    },
    {
     "data": {
      "image/png": "[encoded data removed]",
      "text/plain": [
       "<Figure size 360x360 with 1 Axes>"
      ]
     },
     "metadata": {},
     "output_type": "display_data"
    }
   ],
   "source": [
    "# Plot the total value of the member's portfolio (crypto and stock/bond) in a pie chart\n",
    "savings_df.plot.pie(title='Distribution of cryptocurrency & stocks/bonds', y='amount',figsize=(5,5))\n"
   ]
  },
  {
   "cell_type": "markdown",
   "metadata": {},
   "source": [
    "#### Step 4: Using Python, determine if the current portfolio has enough to create an emergency fund as part of the member’s financial plan. Ideally, an emergency fund should equal to three times the member’s monthly income. To do this, implement the following steps:\n",
    "\n",
    "Step 1. Create a variable named `emergency_fund_value`, and set it equal to three times the value of the member’s `monthly_income` of 12000. (You set this earlier in Part 1).\n",
    "\n",
    "Step 2. Create a series of three if statements to determine if the member’s total portfolio is large enough to fund the emergency portfolio:\n",
    "\n",
    "* If the total portfolio value is greater than the emergency fund value, display a message congratulating the member for having enough money in this fund.\n",
    "\n",
    "* Else if the total portfolio value is equal to the emergency fund value, display a message congratulating the member on reaching this important financial goal.\n",
    "\n",
    "* Else the total portfolio is less than the emergency fund value, so display a message showing how many dollars away the member is from reaching the goal. (Subtract the total portfolio value from the emergency fund value.)\n"
   ]
  },
  {
   "cell_type": "markdown",
   "metadata": {},
   "source": [
    "##### Step 4-1: Create a variable named `emergency_fund_value`, and set it equal to three times the value of the member’s `monthly_income` of 12000. (You set this earlier in Part 1)."
   ]
  },
  {
   "cell_type": "code",
   "execution_count": 89,
   "metadata": {},
   "outputs": [
    {
     "name": "stdout",
     "output_type": "stream",
     "text": [
      "36000\n"
     ]
    }
   ],
   "source": [
    "# Create a variable named emergency_fund_value\n",
    "emergency_fund_value = 3 * monthly_income\n",
    "print(emergency_fund_value)"
   ]
  },
  {
   "cell_type": "markdown",
   "metadata": {},
   "source": [
    "##### Step 4-2: Create a series of three if statements to determine if the member’s total portfolio is large enough to fund the emergency portfolio:\n",
    "\n",
    "* If the total portfolio value is greater than the emergency fund value, display a message congratulating the member for having enough money in this fund.\n",
    "\n",
    "* Else if the total portfolio value is equal to the emergency fund value, display a message congratulating the member on reaching this important financial goal.\n",
    "\n",
    "* Else the total portfolio is less than the emergency fund value, so display a message showing how many dollars away the member is from reaching the goal. (Subtract the total portfolio value from the emergency fund value.)"
   ]
  },
  {
   "cell_type": "code",
   "execution_count": 91,
   "metadata": {},
   "outputs": [
    {
     "name": "stdout",
     "output_type": "stream",
     "text": [
      "Congratulations! You have enough money for this fund\n"
     ]
    }
   ],
   "source": [
    "# Evaluate the possibility of creating an emergency fund with 3 conditions:\n",
    "if total_portfolio > emergency_fund_value:\n",
    "    print(\"Congratulations! You have enough money for this fund\")\n",
    "elif total_portfolio  == emergency_fund_value:\n",
    "    print(\"Congratulations! You have reached your financial goal\")\n",
    "else:\n",
    "    print(f\"Your are ${emergency_fund_value - total_portfolio} away from reaching your financial goal\")"
   ]
  },
  {
   "cell_type": "markdown",
   "metadata": {},
   "source": [
    "## Part 2: Create a Financial Planner for Retirement"
   ]
  },
  {
   "cell_type": "markdown",
   "metadata": {},
   "source": [
    "### Create the Monte Carlo Simulation\n",
    "\n",
    "In this section, you’ll use the MCForecastTools library to create a Monte Carlo simulation for the member’s savings portfolio. To do this, complete the following steps:\n",
    "\n",
    "1. Make an API call via the Alpaca SDK to get 3 years of historical closing prices for a traditional 60/40 portfolio split: 60% stocks (SPY) and 40% bonds (AGG).\n",
    "\n",
    "2. Run a Monte Carlo simulation of 500 samples and 30 years for the 60/40 portfolio, and then plot the results.The following image shows the overlay line plot resulting from a simulation with these characteristics. However, because a random number generator is used to run each live Monte Carlo simulation, your image will differ slightly from this exact image:\n",
    "\n",
    "![A screenshot depicts the resulting plot.](Images/5-4-monte-carlo-line-plot.png)\n",
    "\n",
    "3. Plot the probability distribution of the Monte Carlo simulation. Plot the probability distribution of the Monte Carlo simulation. The following image shows the histogram plot resulting from a simulation with these characteristics. However, because a random number generator is used to run each live Monte Carlo simulation, your image will differ slightly from this exact image:\n",
    "\n",
    "![A screenshot depicts the histogram plot.](Images/5-4-monte-carlo-histogram.png)\n",
    "\n",
    "4. Generate the summary statistics for the Monte Carlo simulation.\n",
    "\n"
   ]
  },
  {
   "cell_type": "markdown",
   "metadata": {},
   "source": [
    "#### Step 1: Make an API call via the Alpaca SDK to get 3 years of historical closing prices for a traditional 60/40 portfolio split: 60% stocks (SPY) and 40% bonds (AGG)."
   ]
  },
  {
   "cell_type": "code",
   "execution_count": 105,
   "metadata": {},
   "outputs": [],
   "source": [
    "# Set start and end dates of 3 years back from your current date\n",
    "# Alternatively, you can use an end date of 2020-08-07 and work 3 years back from that date \n",
    "start_date = pd.Timestamp(\"2018-09-26\", tz=\"America/New_York\").isoformat()\n",
    "end_date = pd.Timestamp(\"2021-09-26\", tz=\"America/New_York\").isoformat()\n",
    "# Set number of rows to 1000 to retrieve the maximum amount of rows\n",
    "limit_rows = 1000"
   ]
  },
  {
   "cell_type": "code",
   "execution_count": 106,
   "metadata": {},
   "outputs": [
    {
     "data": {
      "text/html": [
       "<div>\n",
       "<style scoped>\n",
       "    .dataframe tbody tr th:only-of-type {\n",
       "        vertical-align: middle;\n",
       "    }\n",
       "\n",
       "    .dataframe tbody tr th {\n",
       "        vertical-align: top;\n",
       "    }\n",
       "\n",
       "    .dataframe thead tr th {\n",
       "        text-align: left;\n",
       "    }\n",
       "\n",
       "    .dataframe thead tr:last-of-type th {\n",
       "        text-align: right;\n",
       "    }\n",
       "</style>\n",
       "<table border=\"1\" class=\"dataframe\">\n",
       "  <thead>\n",
       "    <tr>\n",
       "      <th></th>\n",
       "      <th colspan=\"5\" halign=\"left\">AGG</th>\n",
       "      <th colspan=\"5\" halign=\"left\">SPY</th>\n",
       "    </tr>\n",
       "    <tr>\n",
       "      <th></th>\n",
       "      <th>open</th>\n",
       "      <th>high</th>\n",
       "      <th>low</th>\n",
       "      <th>close</th>\n",
       "      <th>volume</th>\n",
       "      <th>open</th>\n",
       "      <th>high</th>\n",
       "      <th>low</th>\n",
       "      <th>close</th>\n",
       "      <th>volume</th>\n",
       "    </tr>\n",
       "    <tr>\n",
       "      <th>time</th>\n",
       "      <th></th>\n",
       "      <th></th>\n",
       "      <th></th>\n",
       "      <th></th>\n",
       "      <th></th>\n",
       "      <th></th>\n",
       "      <th></th>\n",
       "      <th></th>\n",
       "      <th></th>\n",
       "      <th></th>\n",
       "    </tr>\n",
       "  </thead>\n",
       "  <tbody>\n",
       "    <tr>\n",
       "      <th>2018-09-26 00:00:00-04:00</th>\n",
       "      <td>105.37</td>\n",
       "      <td>105.60</td>\n",
       "      <td>105.335</td>\n",
       "      <td>105.560</td>\n",
       "      <td>2626493</td>\n",
       "      <td>290.92</td>\n",
       "      <td>292.240</td>\n",
       "      <td>289.41</td>\n",
       "      <td>289.84</td>\n",
       "      <td>53536102</td>\n",
       "    </tr>\n",
       "    <tr>\n",
       "      <th>2018-09-27 00:00:00-04:00</th>\n",
       "      <td>105.50</td>\n",
       "      <td>105.64</td>\n",
       "      <td>105.500</td>\n",
       "      <td>105.625</td>\n",
       "      <td>2252805</td>\n",
       "      <td>290.44</td>\n",
       "      <td>291.910</td>\n",
       "      <td>290.10</td>\n",
       "      <td>290.65</td>\n",
       "      <td>42099964</td>\n",
       "    </tr>\n",
       "    <tr>\n",
       "      <th>2018-09-28 00:00:00-04:00</th>\n",
       "      <td>105.69</td>\n",
       "      <td>105.71</td>\n",
       "      <td>105.510</td>\n",
       "      <td>105.520</td>\n",
       "      <td>3859908</td>\n",
       "      <td>289.99</td>\n",
       "      <td>291.280</td>\n",
       "      <td>289.95</td>\n",
       "      <td>290.61</td>\n",
       "      <td>49399177</td>\n",
       "    </tr>\n",
       "    <tr>\n",
       "      <th>2018-10-01 00:00:00-04:00</th>\n",
       "      <td>105.35</td>\n",
       "      <td>105.35</td>\n",
       "      <td>105.200</td>\n",
       "      <td>105.220</td>\n",
       "      <td>3048167</td>\n",
       "      <td>292.13</td>\n",
       "      <td>292.930</td>\n",
       "      <td>290.98</td>\n",
       "      <td>291.67</td>\n",
       "      <td>45685920</td>\n",
       "    </tr>\n",
       "    <tr>\n",
       "      <th>2018-10-02 00:00:00-04:00</th>\n",
       "      <td>105.32</td>\n",
       "      <td>105.46</td>\n",
       "      <td>105.250</td>\n",
       "      <td>105.355</td>\n",
       "      <td>4723031</td>\n",
       "      <td>291.56</td>\n",
       "      <td>292.355</td>\n",
       "      <td>291.14</td>\n",
       "      <td>291.57</td>\n",
       "      <td>36043833</td>\n",
       "    </tr>\n",
       "  </tbody>\n",
       "</table>\n",
       "</div>"
      ],
      "text/plain": [
       "                              AGG                                        SPY  \\\n",
       "                             open    high      low    close   volume    open   \n",
       "time                                                                           \n",
       "2018-09-26 00:00:00-04:00  105.37  105.60  105.335  105.560  2626493  290.92   \n",
       "2018-09-27 00:00:00-04:00  105.50  105.64  105.500  105.625  2252805  290.44   \n",
       "2018-09-28 00:00:00-04:00  105.69  105.71  105.510  105.520  3859908  289.99   \n",
       "2018-10-01 00:00:00-04:00  105.35  105.35  105.200  105.220  3048167  292.13   \n",
       "2018-10-02 00:00:00-04:00  105.32  105.46  105.250  105.355  4723031  291.56   \n",
       "\n",
       "                                                              \n",
       "                              high     low   close    volume  \n",
       "time                                                          \n",
       "2018-09-26 00:00:00-04:00  292.240  289.41  289.84  53536102  \n",
       "2018-09-27 00:00:00-04:00  291.910  290.10  290.65  42099964  \n",
       "2018-09-28 00:00:00-04:00  291.280  289.95  290.61  49399177  \n",
       "2018-10-01 00:00:00-04:00  292.930  290.98  291.67  45685920  \n",
       "2018-10-02 00:00:00-04:00  292.355  291.14  291.57  36043833  "
      ]
     },
     "metadata": {},
     "output_type": "display_data"
    },
    {
     "data": {
      "text/html": [
       "<div>\n",
       "<style scoped>\n",
       "    .dataframe tbody tr th:only-of-type {\n",
       "        vertical-align: middle;\n",
       "    }\n",
       "\n",
       "    .dataframe tbody tr th {\n",
       "        vertical-align: top;\n",
       "    }\n",
       "\n",
       "    .dataframe thead tr th {\n",
       "        text-align: left;\n",
       "    }\n",
       "\n",
       "    .dataframe thead tr:last-of-type th {\n",
       "        text-align: right;\n",
       "    }\n",
       "</style>\n",
       "<table border=\"1\" class=\"dataframe\">\n",
       "  <thead>\n",
       "    <tr>\n",
       "      <th></th>\n",
       "      <th colspan=\"5\" halign=\"left\">AGG</th>\n",
       "      <th colspan=\"5\" halign=\"left\">SPY</th>\n",
       "    </tr>\n",
       "    <tr>\n",
       "      <th></th>\n",
       "      <th>open</th>\n",
       "      <th>high</th>\n",
       "      <th>low</th>\n",
       "      <th>close</th>\n",
       "      <th>volume</th>\n",
       "      <th>open</th>\n",
       "      <th>high</th>\n",
       "      <th>low</th>\n",
       "      <th>close</th>\n",
       "      <th>volume</th>\n",
       "    </tr>\n",
       "    <tr>\n",
       "      <th>time</th>\n",
       "      <th></th>\n",
       "      <th></th>\n",
       "      <th></th>\n",
       "      <th></th>\n",
       "      <th></th>\n",
       "      <th></th>\n",
       "      <th></th>\n",
       "      <th></th>\n",
       "      <th></th>\n",
       "      <th></th>\n",
       "    </tr>\n",
       "  </thead>\n",
       "  <tbody>\n",
       "    <tr>\n",
       "      <th>2021-09-20 00:00:00-04:00</th>\n",
       "      <td>116.02</td>\n",
       "      <td>116.1700</td>\n",
       "      <td>115.975</td>\n",
       "      <td>116.120</td>\n",
       "      <td>4463038</td>\n",
       "      <td>434.88</td>\n",
       "      <td>436.56</td>\n",
       "      <td>428.860</td>\n",
       "      <td>434.07</td>\n",
       "      <td>149948277</td>\n",
       "    </tr>\n",
       "    <tr>\n",
       "      <th>2021-09-21 00:00:00-04:00</th>\n",
       "      <td>116.13</td>\n",
       "      <td>116.1700</td>\n",
       "      <td>116.045</td>\n",
       "      <td>116.135</td>\n",
       "      <td>4455403</td>\n",
       "      <td>436.53</td>\n",
       "      <td>437.91</td>\n",
       "      <td>433.070</td>\n",
       "      <td>433.67</td>\n",
       "      <td>82418070</td>\n",
       "    </tr>\n",
       "    <tr>\n",
       "      <th>2021-09-22 00:00:00-04:00</th>\n",
       "      <td>116.11</td>\n",
       "      <td>116.2500</td>\n",
       "      <td>116.005</td>\n",
       "      <td>116.190</td>\n",
       "      <td>6079965</td>\n",
       "      <td>436.05</td>\n",
       "      <td>440.03</td>\n",
       "      <td>433.747</td>\n",
       "      <td>437.83</td>\n",
       "      <td>91135278</td>\n",
       "    </tr>\n",
       "    <tr>\n",
       "      <th>2021-09-23 00:00:00-04:00</th>\n",
       "      <td>115.93</td>\n",
       "      <td>115.9400</td>\n",
       "      <td>115.570</td>\n",
       "      <td>115.570</td>\n",
       "      <td>7516613</td>\n",
       "      <td>439.84</td>\n",
       "      <td>444.89</td>\n",
       "      <td>439.600</td>\n",
       "      <td>443.13</td>\n",
       "      <td>67408294</td>\n",
       "    </tr>\n",
       "    <tr>\n",
       "      <th>2021-09-24 00:00:00-04:00</th>\n",
       "      <td>115.50</td>\n",
       "      <td>115.5055</td>\n",
       "      <td>115.319</td>\n",
       "      <td>115.410</td>\n",
       "      <td>3388185</td>\n",
       "      <td>441.44</td>\n",
       "      <td>444.67</td>\n",
       "      <td>441.210</td>\n",
       "      <td>443.92</td>\n",
       "      <td>52199034</td>\n",
       "    </tr>\n",
       "  </tbody>\n",
       "</table>\n",
       "</div>"
      ],
      "text/plain": [
       "                              AGG                                       \\\n",
       "                             open      high      low    close   volume   \n",
       "time                                                                     \n",
       "2021-09-20 00:00:00-04:00  116.02  116.1700  115.975  116.120  4463038   \n",
       "2021-09-21 00:00:00-04:00  116.13  116.1700  116.045  116.135  4455403   \n",
       "2021-09-22 00:00:00-04:00  116.11  116.2500  116.005  116.190  6079965   \n",
       "2021-09-23 00:00:00-04:00  115.93  115.9400  115.570  115.570  7516613   \n",
       "2021-09-24 00:00:00-04:00  115.50  115.5055  115.319  115.410  3388185   \n",
       "\n",
       "                              SPY                                      \n",
       "                             open    high      low   close     volume  \n",
       "time                                                                   \n",
       "2021-09-20 00:00:00-04:00  434.88  436.56  428.860  434.07  149948277  \n",
       "2021-09-21 00:00:00-04:00  436.53  437.91  433.070  433.67   82418070  \n",
       "2021-09-22 00:00:00-04:00  436.05  440.03  433.747  437.83   91135278  \n",
       "2021-09-23 00:00:00-04:00  439.84  444.89  439.600  443.13   67408294  \n",
       "2021-09-24 00:00:00-04:00  441.44  444.67  441.210  443.92   52199034  "
      ]
     },
     "metadata": {},
     "output_type": "display_data"
    }
   ],
   "source": [
    "# Use the Alpaca get_barset function to make the API call to get the 3 years worth of pricing data\n",
    "# The tickers and timeframe parameters should have been set in Part 1 of this activity \n",
    "# The start and end dates should be updated with the information set above\n",
    "# Remember to add the df property to the end of the call so the response is returned as a DataFrame\n",
    "prices_3yrs_df = alpaca.get_barset(tickers, timeframe, start = start_date, end = end_date, limit=limit_rows).df\n",
    "\n",
    "\n",
    "# Display both the first and last five rows of the DataFrame\n",
    "display(prices_3yrs_df.head())\n",
    "display(prices_3yrs_df.tail())\n"
   ]
  },
  {
   "cell_type": "markdown",
   "metadata": {},
   "source": [
    "#### Step 2: Run a Monte Carlo simulation of 500 samples and 30 years for the 60/40 portfolio, and then plot the results."
   ]
  },
  {
   "cell_type": "code",
   "execution_count": 133,
   "metadata": {},
   "outputs": [
    {
     "data": {
      "text/html": [
       "<div>\n",
       "<style scoped>\n",
       "    .dataframe tbody tr th:only-of-type {\n",
       "        vertical-align: middle;\n",
       "    }\n",
       "\n",
       "    .dataframe tbody tr th {\n",
       "        vertical-align: top;\n",
       "    }\n",
       "\n",
       "    .dataframe thead tr th {\n",
       "        text-align: left;\n",
       "    }\n",
       "\n",
       "    .dataframe thead tr:last-of-type th {\n",
       "        text-align: right;\n",
       "    }\n",
       "</style>\n",
       "<table border=\"1\" class=\"dataframe\">\n",
       "  <thead>\n",
       "    <tr>\n",
       "      <th></th>\n",
       "      <th colspan=\"6\" halign=\"left\">AGG</th>\n",
       "      <th colspan=\"6\" halign=\"left\">SPY</th>\n",
       "    </tr>\n",
       "    <tr>\n",
       "      <th></th>\n",
       "      <th>open</th>\n",
       "      <th>high</th>\n",
       "      <th>low</th>\n",
       "      <th>close</th>\n",
       "      <th>volume</th>\n",
       "      <th>daily_return</th>\n",
       "      <th>open</th>\n",
       "      <th>high</th>\n",
       "      <th>low</th>\n",
       "      <th>close</th>\n",
       "      <th>volume</th>\n",
       "      <th>daily_return</th>\n",
       "    </tr>\n",
       "    <tr>\n",
       "      <th>time</th>\n",
       "      <th></th>\n",
       "      <th></th>\n",
       "      <th></th>\n",
       "      <th></th>\n",
       "      <th></th>\n",
       "      <th></th>\n",
       "      <th></th>\n",
       "      <th></th>\n",
       "      <th></th>\n",
       "      <th></th>\n",
       "      <th></th>\n",
       "      <th></th>\n",
       "    </tr>\n",
       "  </thead>\n",
       "  <tbody>\n",
       "    <tr>\n",
       "      <th>2018-09-26 00:00:00-04:00</th>\n",
       "      <td>105.37</td>\n",
       "      <td>105.60</td>\n",
       "      <td>105.335</td>\n",
       "      <td>105.560</td>\n",
       "      <td>2626493</td>\n",
       "      <td>NaN</td>\n",
       "      <td>290.92</td>\n",
       "      <td>292.240</td>\n",
       "      <td>289.41</td>\n",
       "      <td>289.84</td>\n",
       "      <td>53536102</td>\n",
       "      <td>NaN</td>\n",
       "    </tr>\n",
       "    <tr>\n",
       "      <th>2018-09-27 00:00:00-04:00</th>\n",
       "      <td>105.50</td>\n",
       "      <td>105.64</td>\n",
       "      <td>105.500</td>\n",
       "      <td>105.625</td>\n",
       "      <td>2252805</td>\n",
       "      <td>0.000616</td>\n",
       "      <td>290.44</td>\n",
       "      <td>291.910</td>\n",
       "      <td>290.10</td>\n",
       "      <td>290.65</td>\n",
       "      <td>42099964</td>\n",
       "      <td>0.002795</td>\n",
       "    </tr>\n",
       "    <tr>\n",
       "      <th>2018-09-28 00:00:00-04:00</th>\n",
       "      <td>105.69</td>\n",
       "      <td>105.71</td>\n",
       "      <td>105.510</td>\n",
       "      <td>105.520</td>\n",
       "      <td>3859908</td>\n",
       "      <td>-0.000994</td>\n",
       "      <td>289.99</td>\n",
       "      <td>291.280</td>\n",
       "      <td>289.95</td>\n",
       "      <td>290.61</td>\n",
       "      <td>49399177</td>\n",
       "      <td>-0.000138</td>\n",
       "    </tr>\n",
       "    <tr>\n",
       "      <th>2018-10-01 00:00:00-04:00</th>\n",
       "      <td>105.35</td>\n",
       "      <td>105.35</td>\n",
       "      <td>105.200</td>\n",
       "      <td>105.220</td>\n",
       "      <td>3048167</td>\n",
       "      <td>-0.002843</td>\n",
       "      <td>292.13</td>\n",
       "      <td>292.930</td>\n",
       "      <td>290.98</td>\n",
       "      <td>291.67</td>\n",
       "      <td>45685920</td>\n",
       "      <td>0.003648</td>\n",
       "    </tr>\n",
       "    <tr>\n",
       "      <th>2018-10-02 00:00:00-04:00</th>\n",
       "      <td>105.32</td>\n",
       "      <td>105.46</td>\n",
       "      <td>105.250</td>\n",
       "      <td>105.355</td>\n",
       "      <td>4723031</td>\n",
       "      <td>0.001283</td>\n",
       "      <td>291.56</td>\n",
       "      <td>292.355</td>\n",
       "      <td>291.14</td>\n",
       "      <td>291.57</td>\n",
       "      <td>36043833</td>\n",
       "      <td>-0.000343</td>\n",
       "    </tr>\n",
       "  </tbody>\n",
       "</table>\n",
       "</div>"
      ],
      "text/plain": [
       "                              AGG                                     \\\n",
       "                             open    high      low    close   volume   \n",
       "time                                                                   \n",
       "2018-09-26 00:00:00-04:00  105.37  105.60  105.335  105.560  2626493   \n",
       "2018-09-27 00:00:00-04:00  105.50  105.64  105.500  105.625  2252805   \n",
       "2018-09-28 00:00:00-04:00  105.69  105.71  105.510  105.520  3859908   \n",
       "2018-10-01 00:00:00-04:00  105.35  105.35  105.200  105.220  3048167   \n",
       "2018-10-02 00:00:00-04:00  105.32  105.46  105.250  105.355  4723031   \n",
       "\n",
       "                                           SPY                           \\\n",
       "                          daily_return    open     high     low   close   \n",
       "time                                                                      \n",
       "2018-09-26 00:00:00-04:00          NaN  290.92  292.240  289.41  289.84   \n",
       "2018-09-27 00:00:00-04:00     0.000616  290.44  291.910  290.10  290.65   \n",
       "2018-09-28 00:00:00-04:00    -0.000994  289.99  291.280  289.95  290.61   \n",
       "2018-10-01 00:00:00-04:00    -0.002843  292.13  292.930  290.98  291.67   \n",
       "2018-10-02 00:00:00-04:00     0.001283  291.56  292.355  291.14  291.57   \n",
       "\n",
       "                                                  \n",
       "                             volume daily_return  \n",
       "time                                              \n",
       "2018-09-26 00:00:00-04:00  53536102          NaN  \n",
       "2018-09-27 00:00:00-04:00  42099964     0.002795  \n",
       "2018-09-28 00:00:00-04:00  49399177    -0.000138  \n",
       "2018-10-01 00:00:00-04:00  45685920     0.003648  \n",
       "2018-10-02 00:00:00-04:00  36043833    -0.000343  "
      ]
     },
     "execution_count": 133,
     "metadata": {},
     "output_type": "execute_result"
    }
   ],
   "source": [
    "# Configure the Monte Carlo simulation to forecast 30 years cumulative returns\n",
    "# The weights should be split 40% to AGG and 60% to SPY.\n",
    "# Run 500 samples.\n",
    "mc_simulation_30yr = MCSimulation(\n",
    "    portfolio_data = prices_3yrs_df,\n",
    "    weights=[.40,.60],\n",
    "    num_simulation = 500,\n",
    "    num_trading_days = 252 * 30\n",
    ")\n",
    "\n",
    "# Review the simulation input data\n",
    "mc_simulation_30yr.portfolio_data.head()\n"
   ]
  },
  {
   "cell_type": "code",
   "execution_count": 134,
   "metadata": {},
   "outputs": [
    {
     "name": "stdout",
     "output_type": "stream",
     "text": [
      "Running Monte Carlo simulation number 0.\n",
      "Running Monte Carlo simulation number 10.\n",
      "Running Monte Carlo simulation number 20.\n",
      "Running Monte Carlo simulation number 30.\n",
      "Running Monte Carlo simulation number 40.\n",
      "Running Monte Carlo simulation number 50.\n",
      "Running Monte Carlo simulation number 60.\n",
      "Running Monte Carlo simulation number 70.\n",
      "Running Monte Carlo simulation number 80.\n",
      "Running Monte Carlo simulation number 90.\n",
      "Running Monte Carlo simulation number 100.\n",
      "Running Monte Carlo simulation number 110.\n",
      "Running Monte Carlo simulation number 120.\n",
      "Running Monte Carlo simulation number 130.\n",
      "Running Monte Carlo simulation number 140.\n",
      "Running Monte Carlo simulation number 150.\n",
      "Running Monte Carlo simulation number 160.\n",
      "Running Monte Carlo simulation number 170.\n",
      "Running Monte Carlo simulation number 180.\n",
      "Running Monte Carlo simulation number 190.\n",
      "Running Monte Carlo simulation number 200.\n",
      "Running Monte Carlo simulation number 210.\n",
      "Running Monte Carlo simulation number 220.\n",
      "Running Monte Carlo simulation number 230.\n",
      "Running Monte Carlo simulation number 240.\n",
      "Running Monte Carlo simulation number 250.\n",
      "Running Monte Carlo simulation number 260.\n",
      "Running Monte Carlo simulation number 270.\n",
      "Running Monte Carlo simulation number 280.\n",
      "Running Monte Carlo simulation number 290.\n",
      "Running Monte Carlo simulation number 300.\n",
      "Running Monte Carlo simulation number 310.\n",
      "Running Monte Carlo simulation number 320.\n",
      "Running Monte Carlo simulation number 330.\n",
      "Running Monte Carlo simulation number 340.\n",
      "Running Monte Carlo simulation number 350.\n",
      "Running Monte Carlo simulation number 360.\n",
      "Running Monte Carlo simulation number 370.\n",
      "Running Monte Carlo simulation number 380.\n",
      "Running Monte Carlo simulation number 390.\n",
      "Running Monte Carlo simulation number 400.\n",
      "Running Monte Carlo simulation number 410.\n",
      "Running Monte Carlo simulation number 420.\n",
      "Running Monte Carlo simulation number 430.\n",
      "Running Monte Carlo simulation number 440.\n",
      "Running Monte Carlo simulation number 450.\n",
      "Running Monte Carlo simulation number 460.\n",
      "Running Monte Carlo simulation number 470.\n",
      "Running Monte Carlo simulation number 480.\n",
      "Running Monte Carlo simulation number 490.\n"
     ]
    },
    {
     "data": {
      "text/html": [
       "<div>\n",
       "<style scoped>\n",
       "    .dataframe tbody tr th:only-of-type {\n",
       "        vertical-align: middle;\n",
       "    }\n",
       "\n",
       "    .dataframe tbody tr th {\n",
       "        vertical-align: top;\n",
       "    }\n",
       "\n",
       "    .dataframe thead th {\n",
       "        text-align: right;\n",
       "    }\n",
       "</style>\n",
       "<table border=\"1\" class=\"dataframe\">\n",
       "  <thead>\n",
       "    <tr style=\"text-align: right;\">\n",
       "      <th></th>\n",
       "      <th>0</th>\n",
       "      <th>1</th>\n",
       "      <th>2</th>\n",
       "      <th>3</th>\n",
       "      <th>4</th>\n",
       "      <th>5</th>\n",
       "      <th>6</th>\n",
       "      <th>7</th>\n",
       "      <th>8</th>\n",
       "      <th>9</th>\n",
       "      <th>...</th>\n",
       "      <th>490</th>\n",
       "      <th>491</th>\n",
       "      <th>492</th>\n",
       "      <th>493</th>\n",
       "      <th>494</th>\n",
       "      <th>495</th>\n",
       "      <th>496</th>\n",
       "      <th>497</th>\n",
       "      <th>498</th>\n",
       "      <th>499</th>\n",
       "    </tr>\n",
       "  </thead>\n",
       "  <tbody>\n",
       "    <tr>\n",
       "      <th>0</th>\n",
       "      <td>1.000000</td>\n",
       "      <td>1.000000</td>\n",
       "      <td>1.000000</td>\n",
       "      <td>1.000000</td>\n",
       "      <td>1.000000</td>\n",
       "      <td>1.000000</td>\n",
       "      <td>1.000000</td>\n",
       "      <td>1.000000</td>\n",
       "      <td>1.000000</td>\n",
       "      <td>1.000000</td>\n",
       "      <td>...</td>\n",
       "      <td>1.000000</td>\n",
       "      <td>1.000000</td>\n",
       "      <td>1.000000</td>\n",
       "      <td>1.000000</td>\n",
       "      <td>1.000000</td>\n",
       "      <td>1.000000</td>\n",
       "      <td>1.000000</td>\n",
       "      <td>1.000000</td>\n",
       "      <td>1.000000</td>\n",
       "      <td>1.000000</td>\n",
       "    </tr>\n",
       "    <tr>\n",
       "      <th>1</th>\n",
       "      <td>1.001061</td>\n",
       "      <td>0.993829</td>\n",
       "      <td>1.006410</td>\n",
       "      <td>0.986274</td>\n",
       "      <td>1.008629</td>\n",
       "      <td>1.003415</td>\n",
       "      <td>0.990503</td>\n",
       "      <td>1.015308</td>\n",
       "      <td>0.999560</td>\n",
       "      <td>0.993788</td>\n",
       "      <td>...</td>\n",
       "      <td>1.000544</td>\n",
       "      <td>1.003567</td>\n",
       "      <td>0.996515</td>\n",
       "      <td>0.997487</td>\n",
       "      <td>0.980197</td>\n",
       "      <td>0.998990</td>\n",
       "      <td>1.016911</td>\n",
       "      <td>1.011486</td>\n",
       "      <td>1.000702</td>\n",
       "      <td>0.998527</td>\n",
       "    </tr>\n",
       "    <tr>\n",
       "      <th>2</th>\n",
       "      <td>1.009437</td>\n",
       "      <td>0.984858</td>\n",
       "      <td>1.018553</td>\n",
       "      <td>0.987931</td>\n",
       "      <td>0.994741</td>\n",
       "      <td>1.013091</td>\n",
       "      <td>0.970601</td>\n",
       "      <td>1.009163</td>\n",
       "      <td>1.000440</td>\n",
       "      <td>0.987098</td>\n",
       "      <td>...</td>\n",
       "      <td>1.019411</td>\n",
       "      <td>1.003399</td>\n",
       "      <td>0.989669</td>\n",
       "      <td>1.009035</td>\n",
       "      <td>0.977816</td>\n",
       "      <td>0.999829</td>\n",
       "      <td>1.024755</td>\n",
       "      <td>1.026193</td>\n",
       "      <td>1.010466</td>\n",
       "      <td>0.998639</td>\n",
       "    </tr>\n",
       "    <tr>\n",
       "      <th>3</th>\n",
       "      <td>1.004537</td>\n",
       "      <td>0.976154</td>\n",
       "      <td>1.022965</td>\n",
       "      <td>0.982883</td>\n",
       "      <td>0.995448</td>\n",
       "      <td>1.016834</td>\n",
       "      <td>0.978783</td>\n",
       "      <td>1.012021</td>\n",
       "      <td>1.001971</td>\n",
       "      <td>0.972454</td>\n",
       "      <td>...</td>\n",
       "      <td>1.015576</td>\n",
       "      <td>1.000374</td>\n",
       "      <td>0.980736</td>\n",
       "      <td>1.018161</td>\n",
       "      <td>0.991239</td>\n",
       "      <td>0.986884</td>\n",
       "      <td>1.035223</td>\n",
       "      <td>1.034709</td>\n",
       "      <td>1.006599</td>\n",
       "      <td>1.001174</td>\n",
       "    </tr>\n",
       "    <tr>\n",
       "      <th>4</th>\n",
       "      <td>1.008460</td>\n",
       "      <td>0.986632</td>\n",
       "      <td>1.023574</td>\n",
       "      <td>0.983765</td>\n",
       "      <td>0.985328</td>\n",
       "      <td>1.015891</td>\n",
       "      <td>0.964794</td>\n",
       "      <td>1.017590</td>\n",
       "      <td>1.003960</td>\n",
       "      <td>0.981390</td>\n",
       "      <td>...</td>\n",
       "      <td>1.021434</td>\n",
       "      <td>1.013004</td>\n",
       "      <td>0.991480</td>\n",
       "      <td>1.021620</td>\n",
       "      <td>0.975010</td>\n",
       "      <td>0.976952</td>\n",
       "      <td>1.044499</td>\n",
       "      <td>1.052436</td>\n",
       "      <td>1.014724</td>\n",
       "      <td>1.011073</td>\n",
       "    </tr>\n",
       "    <tr>\n",
       "      <th>...</th>\n",
       "      <td>...</td>\n",
       "      <td>...</td>\n",
       "      <td>...</td>\n",
       "      <td>...</td>\n",
       "      <td>...</td>\n",
       "      <td>...</td>\n",
       "      <td>...</td>\n",
       "      <td>...</td>\n",
       "      <td>...</td>\n",
       "      <td>...</td>\n",
       "      <td>...</td>\n",
       "      <td>...</td>\n",
       "      <td>...</td>\n",
       "      <td>...</td>\n",
       "      <td>...</td>\n",
       "      <td>...</td>\n",
       "      <td>...</td>\n",
       "      <td>...</td>\n",
       "      <td>...</td>\n",
       "      <td>...</td>\n",
       "      <td>...</td>\n",
       "    </tr>\n",
       "    <tr>\n",
       "      <th>7556</th>\n",
       "      <td>47.303238</td>\n",
       "      <td>35.456142</td>\n",
       "      <td>3.430442</td>\n",
       "      <td>16.256086</td>\n",
       "      <td>11.860362</td>\n",
       "      <td>21.332488</td>\n",
       "      <td>11.043845</td>\n",
       "      <td>47.056802</td>\n",
       "      <td>42.025714</td>\n",
       "      <td>17.559844</td>\n",
       "      <td>...</td>\n",
       "      <td>51.273272</td>\n",
       "      <td>15.596953</td>\n",
       "      <td>13.318826</td>\n",
       "      <td>31.772425</td>\n",
       "      <td>19.960790</td>\n",
       "      <td>36.924967</td>\n",
       "      <td>19.901778</td>\n",
       "      <td>31.038815</td>\n",
       "      <td>12.007595</td>\n",
       "      <td>7.235121</td>\n",
       "    </tr>\n",
       "    <tr>\n",
       "      <th>7557</th>\n",
       "      <td>47.773799</td>\n",
       "      <td>35.707788</td>\n",
       "      <td>3.440865</td>\n",
       "      <td>16.289806</td>\n",
       "      <td>11.862185</td>\n",
       "      <td>21.221761</td>\n",
       "      <td>10.963417</td>\n",
       "      <td>47.238041</td>\n",
       "      <td>42.099191</td>\n",
       "      <td>17.544246</td>\n",
       "      <td>...</td>\n",
       "      <td>51.496726</td>\n",
       "      <td>15.473554</td>\n",
       "      <td>13.332993</td>\n",
       "      <td>31.992887</td>\n",
       "      <td>19.982282</td>\n",
       "      <td>36.984964</td>\n",
       "      <td>19.873695</td>\n",
       "      <td>30.713186</td>\n",
       "      <td>11.905351</td>\n",
       "      <td>7.210161</td>\n",
       "    </tr>\n",
       "    <tr>\n",
       "      <th>7558</th>\n",
       "      <td>47.759672</td>\n",
       "      <td>35.782008</td>\n",
       "      <td>3.497813</td>\n",
       "      <td>16.680080</td>\n",
       "      <td>11.920176</td>\n",
       "      <td>21.246539</td>\n",
       "      <td>11.003244</td>\n",
       "      <td>47.315697</td>\n",
       "      <td>42.382875</td>\n",
       "      <td>17.709606</td>\n",
       "      <td>...</td>\n",
       "      <td>50.306026</td>\n",
       "      <td>15.360578</td>\n",
       "      <td>13.288464</td>\n",
       "      <td>32.319709</td>\n",
       "      <td>19.975182</td>\n",
       "      <td>36.595339</td>\n",
       "      <td>20.133766</td>\n",
       "      <td>30.406407</td>\n",
       "      <td>11.815604</td>\n",
       "      <td>7.169218</td>\n",
       "    </tr>\n",
       "    <tr>\n",
       "      <th>7559</th>\n",
       "      <td>47.557439</td>\n",
       "      <td>35.750549</td>\n",
       "      <td>3.496744</td>\n",
       "      <td>16.607731</td>\n",
       "      <td>11.826555</td>\n",
       "      <td>21.250301</td>\n",
       "      <td>11.062555</td>\n",
       "      <td>46.741149</td>\n",
       "      <td>41.986751</td>\n",
       "      <td>17.563878</td>\n",
       "      <td>...</td>\n",
       "      <td>50.784159</td>\n",
       "      <td>15.483593</td>\n",
       "      <td>13.283332</td>\n",
       "      <td>32.490796</td>\n",
       "      <td>19.714384</td>\n",
       "      <td>36.141172</td>\n",
       "      <td>19.977791</td>\n",
       "      <td>30.777733</td>\n",
       "      <td>11.991899</td>\n",
       "      <td>7.094630</td>\n",
       "    </tr>\n",
       "    <tr>\n",
       "      <th>7560</th>\n",
       "      <td>47.716629</td>\n",
       "      <td>35.679598</td>\n",
       "      <td>3.488136</td>\n",
       "      <td>16.430252</td>\n",
       "      <td>11.798036</td>\n",
       "      <td>21.333203</td>\n",
       "      <td>10.936550</td>\n",
       "      <td>46.882284</td>\n",
       "      <td>42.218279</td>\n",
       "      <td>17.484872</td>\n",
       "      <td>...</td>\n",
       "      <td>50.516193</td>\n",
       "      <td>15.786497</td>\n",
       "      <td>13.173193</td>\n",
       "      <td>32.618908</td>\n",
       "      <td>19.740637</td>\n",
       "      <td>36.202258</td>\n",
       "      <td>19.903665</td>\n",
       "      <td>30.753042</td>\n",
       "      <td>11.887137</td>\n",
       "      <td>7.087781</td>\n",
       "    </tr>\n",
       "  </tbody>\n",
       "</table>\n",
       "<p>7561 rows × 500 columns</p>\n",
       "</div>"
      ],
      "text/plain": [
       "            0          1         2          3          4          5    \\\n",
       "0      1.000000   1.000000  1.000000   1.000000   1.000000   1.000000   \n",
       "1      1.001061   0.993829  1.006410   0.986274   1.008629   1.003415   \n",
       "2      1.009437   0.984858  1.018553   0.987931   0.994741   1.013091   \n",
       "3      1.004537   0.976154  1.022965   0.982883   0.995448   1.016834   \n",
       "4      1.008460   0.986632  1.023574   0.983765   0.985328   1.015891   \n",
       "...         ...        ...       ...        ...        ...        ...   \n",
       "7556  47.303238  35.456142  3.430442  16.256086  11.860362  21.332488   \n",
       "7557  47.773799  35.707788  3.440865  16.289806  11.862185  21.221761   \n",
       "7558  47.759672  35.782008  3.497813  16.680080  11.920176  21.246539   \n",
       "7559  47.557439  35.750549  3.496744  16.607731  11.826555  21.250301   \n",
       "7560  47.716629  35.679598  3.488136  16.430252  11.798036  21.333203   \n",
       "\n",
       "            6          7          8          9    ...        490        491  \\\n",
       "0      1.000000   1.000000   1.000000   1.000000  ...   1.000000   1.000000   \n",
       "1      0.990503   1.015308   0.999560   0.993788  ...   1.000544   1.003567   \n",
       "2      0.970601   1.009163   1.000440   0.987098  ...   1.019411   1.003399   \n",
       "3      0.978783   1.012021   1.001971   0.972454  ...   1.015576   1.000374   \n",
       "4      0.964794   1.017590   1.003960   0.981390  ...   1.021434   1.013004   \n",
       "...         ...        ...        ...        ...  ...        ...        ...   \n",
       "7556  11.043845  47.056802  42.025714  17.559844  ...  51.273272  15.596953   \n",
       "7557  10.963417  47.238041  42.099191  17.544246  ...  51.496726  15.473554   \n",
       "7558  11.003244  47.315697  42.382875  17.709606  ...  50.306026  15.360578   \n",
       "7559  11.062555  46.741149  41.986751  17.563878  ...  50.784159  15.483593   \n",
       "7560  10.936550  46.882284  42.218279  17.484872  ...  50.516193  15.786497   \n",
       "\n",
       "            492        493        494        495        496        497  \\\n",
       "0      1.000000   1.000000   1.000000   1.000000   1.000000   1.000000   \n",
       "1      0.996515   0.997487   0.980197   0.998990   1.016911   1.011486   \n",
       "2      0.989669   1.009035   0.977816   0.999829   1.024755   1.026193   \n",
       "3      0.980736   1.018161   0.991239   0.986884   1.035223   1.034709   \n",
       "4      0.991480   1.021620   0.975010   0.976952   1.044499   1.052436   \n",
       "...         ...        ...        ...        ...        ...        ...   \n",
       "7556  13.318826  31.772425  19.960790  36.924967  19.901778  31.038815   \n",
       "7557  13.332993  31.992887  19.982282  36.984964  19.873695  30.713186   \n",
       "7558  13.288464  32.319709  19.975182  36.595339  20.133766  30.406407   \n",
       "7559  13.283332  32.490796  19.714384  36.141172  19.977791  30.777733   \n",
       "7560  13.173193  32.618908  19.740637  36.202258  19.903665  30.753042   \n",
       "\n",
       "            498       499  \n",
       "0      1.000000  1.000000  \n",
       "1      1.000702  0.998527  \n",
       "2      1.010466  0.998639  \n",
       "3      1.006599  1.001174  \n",
       "4      1.014724  1.011073  \n",
       "...         ...       ...  \n",
       "7556  12.007595  7.235121  \n",
       "7557  11.905351  7.210161  \n",
       "7558  11.815604  7.169218  \n",
       "7559  11.991899  7.094630  \n",
       "7560  11.887137  7.087781  \n",
       "\n",
       "[7561 rows x 500 columns]"
      ]
     },
     "execution_count": 134,
     "metadata": {},
     "output_type": "execute_result"
    }
   ],
   "source": [
    "# Run the Monte Carlo simulation to forecast 30 years cumulative returns\n",
    "mc_simulation_30yr.calc_cumulative_return()\n"
   ]
  },
  {
   "cell_type": "code",
   "execution_count": 135,
   "metadata": {},
   "outputs": [
    {
     "data": {
      "text/plain": [
       "<AxesSubplot:title={'center':'500 Simulations of Cumulative Portfolio Return Trajectories Over the Next 7560 Trading Days.'}>"
      ]
     },
     "execution_count": 135,
     "metadata": {},
     "output_type": "execute_result"
    },
    {
     "data": {
      "image/png": "[encoded data removed]",
      "text/plain": [
       "<Figure size 432x288 with 1 Axes>"
      ]
     },
     "metadata": {
      "needs_background": "light"
     },
     "output_type": "display_data"
    }
   ],
   "source": [
    "# Visualize the 30-year Monte Carlo simulation by creating an\n",
    "# overlay line plot\n",
    "sim_line_plot = mc_simulation_30yr.plot_simulation()\n",
    "sim_line_plot"
   ]
  },
  {
   "cell_type": "code",
   "execution_count": 136,
   "metadata": {},
   "outputs": [],
   "source": [
    "# Code for saving plot as a png file\n",
    "#sim_line_plot.get_figure().savefig(\"#sim_line_plot.png\", bbox_inches=\"tight\")"
   ]
  },
  {
   "cell_type": "markdown",
   "metadata": {},
   "source": [
    "#### Step 3: Plot the probability distribution of the Monte Carlo simulation."
   ]
  },
  {
   "cell_type": "code",
   "execution_count": 137,
   "metadata": {},
   "outputs": [
    {
     "data": {
      "image/png": "[encoded data removed]",
      "text/plain": [
       "<Figure size 432x288 with 1 Axes>"
      ]
     },
     "metadata": {
      "needs_background": "light"
     },
     "output_type": "display_data"
    }
   ],
   "source": [
    "# Visualize the probability distribution of the 30-year Monte Carlo simulation \n",
    "# by plotting a histogram\n",
    "sim_dist_plot = mc_simulation_30yr.plot_distribution()\n"
   ]
  },
  {
   "cell_type": "markdown",
   "metadata": {},
   "source": [
    "#### Step 4: Generate the summary statistics for the Monte Carlo simulation."
   ]
  },
  {
   "cell_type": "code",
   "execution_count": 138,
   "metadata": {},
   "outputs": [
    {
     "name": "stdout",
     "output_type": "stream",
     "text": [
      "count           500.000000\n",
      "mean             30.020872\n",
      "std              24.664024\n",
      "min               2.510484\n",
      "25%              14.128247\n",
      "50%              23.313471\n",
      "75%              37.859215\n",
      "max             197.508524\n",
      "95% CI Lower      5.419937\n",
      "95% CI Upper     93.183954\n",
      "Name: 7560, dtype: float64\n"
     ]
    }
   ],
   "source": [
    "# Generate summary statistics from the 30-year Monte Carlo simulation results\n",
    "# Save the results as a variable\n",
    "summary_stats_30yr = mc_simulation_30yr.summarize_cumulative_return()\n",
    "\n",
    "\n",
    "# Review the 30-year Monte Carlo summary statistics\n",
    "print(summary_stats_30yr)"
   ]
  },
  {
   "cell_type": "markdown",
   "metadata": {},
   "source": [
    "### Analyze the Retirement Portfolio Forecasts\n",
    "\n",
    "Using the current value of only the stock and bond portion of the member's portfolio and the summary statistics that you generated from the Monte Carlo simulation, answer the following question in your Jupyter notebook:\n",
    "\n",
    "-  What are the lower and upper bounds for the expected value of the portfolio with a 95% confidence interval?\n"
   ]
  },
  {
   "cell_type": "code",
   "execution_count": 139,
   "metadata": {},
   "outputs": [
    {
     "name": "stdout",
     "output_type": "stream",
     "text": [
      "The current balance of the stock and bonds portion of the member's portfolio is: $60689.50\n"
     ]
    }
   ],
   "source": [
    "# Print the current balance of the stock and bond portion of the members portfolio\n",
    "print(f\"The current balance of the stock and bonds portion of the member's portfolio is: ${total_stocks_bonds:.2f}\")\n"
   ]
  },
  {
   "cell_type": "code",
   "execution_count": 140,
   "metadata": {},
   "outputs": [
    {
     "name": "stdout",
     "output_type": "stream",
     "text": [
      "The lower 95% confidence interval is $328933.25\n",
      "The upper 95% confidence interval is $5655287.60\n"
     ]
    }
   ],
   "source": [
    "# Use the lower and upper `95%` confidence intervals to calculate the range of the possible outcomes for the current stock/bond portfolio\n",
    "ci_lower_thirty_cumulative_return = summary_stats_30yr[8] * total_stocks_bonds\n",
    "ci_upper_thirty_cumulative_return = summary_stats_30yr[9] * total_stocks_bonds\n",
    "\n",
    "# Print the result of your calculations\n",
    "print(f\"The lower 95% confidence interval is ${ci_lower_thirty_cumulative_return:.2f}\")\n",
    "print(f\"The upper 95% confidence interval is ${ci_upper_thirty_cumulative_return:.2f}\")\n"
   ]
  },
  {
   "cell_type": "markdown",
   "metadata": {},
   "source": [
    "### Forecast Cumulative Returns in 10 Years\n",
    "\n",
    "The CTO of the credit union is impressed with your work on these planning tools but wonders if 30 years is a long time to wait until retirement. So, your next task is to adjust the retirement portfolio and run a new Monte Carlo simulation to find out if the changes will allow members to retire earlier.\n",
    "\n",
    "For this new Monte Carlo simulation, do the following: \n",
    "\n",
    "- Forecast the cumulative returns for 10 years from now. Because of the shortened investment horizon (30 years to 10 years), the portfolio needs to invest more heavily in the riskier asset&mdash;that is, stock&mdash;to help accumulate wealth for retirement. \n",
    "\n",
    "- Adjust the weights of the retirement portfolio so that the composition for the Monte Carlo simulation consists of 20% bonds and 80% stocks. \n",
    "\n",
    "- Run the simulation over 500 samples, and use the same data that the API call to Alpaca generated.\n",
    "\n",
    "- Based on the new Monte Carlo simulation, answer the following questions in your Jupyter notebook:\n",
    "\n",
    "    - Using the current value of only the stock and bond portion of the member's portfolio and the summary statistics that you generated from the new Monte Carlo simulation, what are the lower and upper bounds for the expected value of the portfolio (with the new weights) with a 95% confidence interval?\n",
    "\n",
    "    - Will weighting the portfolio more heavily toward stocks allow the credit union members to retire after only 10 years?\n"
   ]
  },
  {
   "cell_type": "code",
   "execution_count": 145,
   "metadata": {},
   "outputs": [
    {
     "data": {
      "text/html": [
       "<div>\n",
       "<style scoped>\n",
       "    .dataframe tbody tr th:only-of-type {\n",
       "        vertical-align: middle;\n",
       "    }\n",
       "\n",
       "    .dataframe tbody tr th {\n",
       "        vertical-align: top;\n",
       "    }\n",
       "\n",
       "    .dataframe thead tr th {\n",
       "        text-align: left;\n",
       "    }\n",
       "\n",
       "    .dataframe thead tr:last-of-type th {\n",
       "        text-align: right;\n",
       "    }\n",
       "</style>\n",
       "<table border=\"1\" class=\"dataframe\">\n",
       "  <thead>\n",
       "    <tr>\n",
       "      <th></th>\n",
       "      <th colspan=\"6\" halign=\"left\">AGG</th>\n",
       "      <th colspan=\"6\" halign=\"left\">SPY</th>\n",
       "    </tr>\n",
       "    <tr>\n",
       "      <th></th>\n",
       "      <th>open</th>\n",
       "      <th>high</th>\n",
       "      <th>low</th>\n",
       "      <th>close</th>\n",
       "      <th>volume</th>\n",
       "      <th>daily_return</th>\n",
       "      <th>open</th>\n",
       "      <th>high</th>\n",
       "      <th>low</th>\n",
       "      <th>close</th>\n",
       "      <th>volume</th>\n",
       "      <th>daily_return</th>\n",
       "    </tr>\n",
       "    <tr>\n",
       "      <th>time</th>\n",
       "      <th></th>\n",
       "      <th></th>\n",
       "      <th></th>\n",
       "      <th></th>\n",
       "      <th></th>\n",
       "      <th></th>\n",
       "      <th></th>\n",
       "      <th></th>\n",
       "      <th></th>\n",
       "      <th></th>\n",
       "      <th></th>\n",
       "      <th></th>\n",
       "    </tr>\n",
       "  </thead>\n",
       "  <tbody>\n",
       "    <tr>\n",
       "      <th>2018-09-26 00:00:00-04:00</th>\n",
       "      <td>105.37</td>\n",
       "      <td>105.60</td>\n",
       "      <td>105.335</td>\n",
       "      <td>105.560</td>\n",
       "      <td>2626493</td>\n",
       "      <td>NaN</td>\n",
       "      <td>290.92</td>\n",
       "      <td>292.240</td>\n",
       "      <td>289.41</td>\n",
       "      <td>289.84</td>\n",
       "      <td>53536102</td>\n",
       "      <td>NaN</td>\n",
       "    </tr>\n",
       "    <tr>\n",
       "      <th>2018-09-27 00:00:00-04:00</th>\n",
       "      <td>105.50</td>\n",
       "      <td>105.64</td>\n",
       "      <td>105.500</td>\n",
       "      <td>105.625</td>\n",
       "      <td>2252805</td>\n",
       "      <td>0.000616</td>\n",
       "      <td>290.44</td>\n",
       "      <td>291.910</td>\n",
       "      <td>290.10</td>\n",
       "      <td>290.65</td>\n",
       "      <td>42099964</td>\n",
       "      <td>0.002795</td>\n",
       "    </tr>\n",
       "    <tr>\n",
       "      <th>2018-09-28 00:00:00-04:00</th>\n",
       "      <td>105.69</td>\n",
       "      <td>105.71</td>\n",
       "      <td>105.510</td>\n",
       "      <td>105.520</td>\n",
       "      <td>3859908</td>\n",
       "      <td>-0.000994</td>\n",
       "      <td>289.99</td>\n",
       "      <td>291.280</td>\n",
       "      <td>289.95</td>\n",
       "      <td>290.61</td>\n",
       "      <td>49399177</td>\n",
       "      <td>-0.000138</td>\n",
       "    </tr>\n",
       "    <tr>\n",
       "      <th>2018-10-01 00:00:00-04:00</th>\n",
       "      <td>105.35</td>\n",
       "      <td>105.35</td>\n",
       "      <td>105.200</td>\n",
       "      <td>105.220</td>\n",
       "      <td>3048167</td>\n",
       "      <td>-0.002843</td>\n",
       "      <td>292.13</td>\n",
       "      <td>292.930</td>\n",
       "      <td>290.98</td>\n",
       "      <td>291.67</td>\n",
       "      <td>45685920</td>\n",
       "      <td>0.003648</td>\n",
       "    </tr>\n",
       "    <tr>\n",
       "      <th>2018-10-02 00:00:00-04:00</th>\n",
       "      <td>105.32</td>\n",
       "      <td>105.46</td>\n",
       "      <td>105.250</td>\n",
       "      <td>105.355</td>\n",
       "      <td>4723031</td>\n",
       "      <td>0.001283</td>\n",
       "      <td>291.56</td>\n",
       "      <td>292.355</td>\n",
       "      <td>291.14</td>\n",
       "      <td>291.57</td>\n",
       "      <td>36043833</td>\n",
       "      <td>-0.000343</td>\n",
       "    </tr>\n",
       "  </tbody>\n",
       "</table>\n",
       "</div>"
      ],
      "text/plain": [
       "                              AGG                                     \\\n",
       "                             open    high      low    close   volume   \n",
       "time                                                                   \n",
       "2018-09-26 00:00:00-04:00  105.37  105.60  105.335  105.560  2626493   \n",
       "2018-09-27 00:00:00-04:00  105.50  105.64  105.500  105.625  2252805   \n",
       "2018-09-28 00:00:00-04:00  105.69  105.71  105.510  105.520  3859908   \n",
       "2018-10-01 00:00:00-04:00  105.35  105.35  105.200  105.220  3048167   \n",
       "2018-10-02 00:00:00-04:00  105.32  105.46  105.250  105.355  4723031   \n",
       "\n",
       "                                           SPY                           \\\n",
       "                          daily_return    open     high     low   close   \n",
       "time                                                                      \n",
       "2018-09-26 00:00:00-04:00          NaN  290.92  292.240  289.41  289.84   \n",
       "2018-09-27 00:00:00-04:00     0.000616  290.44  291.910  290.10  290.65   \n",
       "2018-09-28 00:00:00-04:00    -0.000994  289.99  291.280  289.95  290.61   \n",
       "2018-10-01 00:00:00-04:00    -0.002843  292.13  292.930  290.98  291.67   \n",
       "2018-10-02 00:00:00-04:00     0.001283  291.56  292.355  291.14  291.57   \n",
       "\n",
       "                                                  \n",
       "                             volume daily_return  \n",
       "time                                              \n",
       "2018-09-26 00:00:00-04:00  53536102          NaN  \n",
       "2018-09-27 00:00:00-04:00  42099964     0.002795  \n",
       "2018-09-28 00:00:00-04:00  49399177    -0.000138  \n",
       "2018-10-01 00:00:00-04:00  45685920     0.003648  \n",
       "2018-10-02 00:00:00-04:00  36043833    -0.000343  "
      ]
     },
     "execution_count": 145,
     "metadata": {},
     "output_type": "execute_result"
    }
   ],
   "source": [
    "# Configure a Monte Carlo simulation to forecast 10 years cumulative returns\n",
    "# The weights should be split 20% to AGG and 80% to SPY.\n",
    "mc_simulation_10yr = MCSimulation(\n",
    "    portfolio_data = prices_3yrs_df,\n",
    "    weights=[.20,.80],\n",
    "    num_simulation = 500,\n",
    "    num_trading_days = 252 * 10\n",
    ")\n",
    "\n",
    "# Review the simulation input data\n",
    "mc_simulation_10yr.portfolio_data.head()"
   ]
  },
  {
   "cell_type": "code",
   "execution_count": 146,
   "metadata": {},
   "outputs": [
    {
     "name": "stdout",
     "output_type": "stream",
     "text": [
      "Running Monte Carlo simulation number 0.\n",
      "Running Monte Carlo simulation number 10.\n",
      "Running Monte Carlo simulation number 20.\n",
      "Running Monte Carlo simulation number 30.\n",
      "Running Monte Carlo simulation number 40.\n",
      "Running Monte Carlo simulation number 50.\n",
      "Running Monte Carlo simulation number 60.\n",
      "Running Monte Carlo simulation number 70.\n",
      "Running Monte Carlo simulation number 80.\n",
      "Running Monte Carlo simulation number 90.\n",
      "Running Monte Carlo simulation number 100.\n",
      "Running Monte Carlo simulation number 110.\n",
      "Running Monte Carlo simulation number 120.\n",
      "Running Monte Carlo simulation number 130.\n",
      "Running Monte Carlo simulation number 140.\n",
      "Running Monte Carlo simulation number 150.\n",
      "Running Monte Carlo simulation number 160.\n",
      "Running Monte Carlo simulation number 170.\n",
      "Running Monte Carlo simulation number 180.\n",
      "Running Monte Carlo simulation number 190.\n",
      "Running Monte Carlo simulation number 200.\n",
      "Running Monte Carlo simulation number 210.\n",
      "Running Monte Carlo simulation number 220.\n",
      "Running Monte Carlo simulation number 230.\n",
      "Running Monte Carlo simulation number 240.\n",
      "Running Monte Carlo simulation number 250.\n",
      "Running Monte Carlo simulation number 260.\n",
      "Running Monte Carlo simulation number 270.\n",
      "Running Monte Carlo simulation number 280.\n",
      "Running Monte Carlo simulation number 290.\n",
      "Running Monte Carlo simulation number 300.\n",
      "Running Monte Carlo simulation number 310.\n",
      "Running Monte Carlo simulation number 320.\n",
      "Running Monte Carlo simulation number 330.\n",
      "Running Monte Carlo simulation number 340.\n",
      "Running Monte Carlo simulation number 350.\n",
      "Running Monte Carlo simulation number 360.\n",
      "Running Monte Carlo simulation number 370.\n",
      "Running Monte Carlo simulation number 380.\n",
      "Running Monte Carlo simulation number 390.\n",
      "Running Monte Carlo simulation number 400.\n",
      "Running Monte Carlo simulation number 410.\n",
      "Running Monte Carlo simulation number 420.\n",
      "Running Monte Carlo simulation number 430.\n",
      "Running Monte Carlo simulation number 440.\n",
      "Running Monte Carlo simulation number 450.\n",
      "Running Monte Carlo simulation number 460.\n",
      "Running Monte Carlo simulation number 470.\n",
      "Running Monte Carlo simulation number 480.\n",
      "Running Monte Carlo simulation number 490.\n"
     ]
    },
    {
     "data": {
      "text/html": [
       "<div>\n",
       "<style scoped>\n",
       "    .dataframe tbody tr th:only-of-type {\n",
       "        vertical-align: middle;\n",
       "    }\n",
       "\n",
       "    .dataframe tbody tr th {\n",
       "        vertical-align: top;\n",
       "    }\n",
       "\n",
       "    .dataframe thead th {\n",
       "        text-align: right;\n",
       "    }\n",
       "</style>\n",
       "<table border=\"1\" class=\"dataframe\">\n",
       "  <thead>\n",
       "    <tr style=\"text-align: right;\">\n",
       "      <th></th>\n",
       "      <th>0</th>\n",
       "      <th>1</th>\n",
       "      <th>2</th>\n",
       "      <th>3</th>\n",
       "      <th>4</th>\n",
       "      <th>5</th>\n",
       "      <th>6</th>\n",
       "      <th>7</th>\n",
       "      <th>8</th>\n",
       "      <th>9</th>\n",
       "      <th>...</th>\n",
       "      <th>490</th>\n",
       "      <th>491</th>\n",
       "      <th>492</th>\n",
       "      <th>493</th>\n",
       "      <th>494</th>\n",
       "      <th>495</th>\n",
       "      <th>496</th>\n",
       "      <th>497</th>\n",
       "      <th>498</th>\n",
       "      <th>499</th>\n",
       "    </tr>\n",
       "  </thead>\n",
       "  <tbody>\n",
       "    <tr>\n",
       "      <th>0</th>\n",
       "      <td>1.000000</td>\n",
       "      <td>1.000000</td>\n",
       "      <td>1.000000</td>\n",
       "      <td>1.000000</td>\n",
       "      <td>1.000000</td>\n",
       "      <td>1.000000</td>\n",
       "      <td>1.000000</td>\n",
       "      <td>1.000000</td>\n",
       "      <td>1.000000</td>\n",
       "      <td>1.000000</td>\n",
       "      <td>...</td>\n",
       "      <td>1.000000</td>\n",
       "      <td>1.000000</td>\n",
       "      <td>1.000000</td>\n",
       "      <td>1.000000</td>\n",
       "      <td>1.000000</td>\n",
       "      <td>1.000000</td>\n",
       "      <td>1.000000</td>\n",
       "      <td>1.000000</td>\n",
       "      <td>1.000000</td>\n",
       "      <td>1.000000</td>\n",
       "    </tr>\n",
       "    <tr>\n",
       "      <th>1</th>\n",
       "      <td>1.002448</td>\n",
       "      <td>0.999951</td>\n",
       "      <td>0.991433</td>\n",
       "      <td>1.004137</td>\n",
       "      <td>1.002805</td>\n",
       "      <td>1.001043</td>\n",
       "      <td>1.006396</td>\n",
       "      <td>1.009190</td>\n",
       "      <td>0.982460</td>\n",
       "      <td>0.988296</td>\n",
       "      <td>...</td>\n",
       "      <td>1.009237</td>\n",
       "      <td>0.990697</td>\n",
       "      <td>0.990475</td>\n",
       "      <td>1.010984</td>\n",
       "      <td>0.997151</td>\n",
       "      <td>1.026282</td>\n",
       "      <td>1.011754</td>\n",
       "      <td>0.993825</td>\n",
       "      <td>1.005838</td>\n",
       "      <td>0.994336</td>\n",
       "    </tr>\n",
       "    <tr>\n",
       "      <th>2</th>\n",
       "      <td>1.007802</td>\n",
       "      <td>1.013293</td>\n",
       "      <td>0.991999</td>\n",
       "      <td>1.011610</td>\n",
       "      <td>1.012619</td>\n",
       "      <td>1.009716</td>\n",
       "      <td>1.010750</td>\n",
       "      <td>1.020684</td>\n",
       "      <td>0.995837</td>\n",
       "      <td>0.983390</td>\n",
       "      <td>...</td>\n",
       "      <td>1.028544</td>\n",
       "      <td>0.998574</td>\n",
       "      <td>1.011222</td>\n",
       "      <td>1.010836</td>\n",
       "      <td>1.012831</td>\n",
       "      <td>0.994929</td>\n",
       "      <td>0.990099</td>\n",
       "      <td>0.994530</td>\n",
       "      <td>1.001522</td>\n",
       "      <td>0.981932</td>\n",
       "    </tr>\n",
       "    <tr>\n",
       "      <th>3</th>\n",
       "      <td>1.006836</td>\n",
       "      <td>1.003676</td>\n",
       "      <td>1.003553</td>\n",
       "      <td>1.017434</td>\n",
       "      <td>0.995949</td>\n",
       "      <td>1.008312</td>\n",
       "      <td>1.022280</td>\n",
       "      <td>1.027277</td>\n",
       "      <td>0.990218</td>\n",
       "      <td>0.980179</td>\n",
       "      <td>...</td>\n",
       "      <td>1.030430</td>\n",
       "      <td>0.982582</td>\n",
       "      <td>1.010357</td>\n",
       "      <td>1.000857</td>\n",
       "      <td>1.031105</td>\n",
       "      <td>0.999501</td>\n",
       "      <td>0.997361</td>\n",
       "      <td>0.989690</td>\n",
       "      <td>1.008496</td>\n",
       "      <td>0.975446</td>\n",
       "    </tr>\n",
       "    <tr>\n",
       "      <th>4</th>\n",
       "      <td>0.989273</td>\n",
       "      <td>1.014476</td>\n",
       "      <td>0.975039</td>\n",
       "      <td>1.030402</td>\n",
       "      <td>1.009989</td>\n",
       "      <td>1.004258</td>\n",
       "      <td>1.020604</td>\n",
       "      <td>1.006504</td>\n",
       "      <td>0.988376</td>\n",
       "      <td>0.985367</td>\n",
       "      <td>...</td>\n",
       "      <td>1.023102</td>\n",
       "      <td>1.002418</td>\n",
       "      <td>0.998453</td>\n",
       "      <td>1.007224</td>\n",
       "      <td>1.015303</td>\n",
       "      <td>0.987962</td>\n",
       "      <td>1.011784</td>\n",
       "      <td>1.002245</td>\n",
       "      <td>0.996553</td>\n",
       "      <td>0.981997</td>\n",
       "    </tr>\n",
       "    <tr>\n",
       "      <th>...</th>\n",
       "      <td>...</td>\n",
       "      <td>...</td>\n",
       "      <td>...</td>\n",
       "      <td>...</td>\n",
       "      <td>...</td>\n",
       "      <td>...</td>\n",
       "      <td>...</td>\n",
       "      <td>...</td>\n",
       "      <td>...</td>\n",
       "      <td>...</td>\n",
       "      <td>...</td>\n",
       "      <td>...</td>\n",
       "      <td>...</td>\n",
       "      <td>...</td>\n",
       "      <td>...</td>\n",
       "      <td>...</td>\n",
       "      <td>...</td>\n",
       "      <td>...</td>\n",
       "      <td>...</td>\n",
       "      <td>...</td>\n",
       "      <td>...</td>\n",
       "    </tr>\n",
       "    <tr>\n",
       "      <th>2516</th>\n",
       "      <td>5.497581</td>\n",
       "      <td>4.209319</td>\n",
       "      <td>0.743821</td>\n",
       "      <td>2.245020</td>\n",
       "      <td>3.665603</td>\n",
       "      <td>4.610720</td>\n",
       "      <td>1.645617</td>\n",
       "      <td>4.359217</td>\n",
       "      <td>2.714731</td>\n",
       "      <td>6.103974</td>\n",
       "      <td>...</td>\n",
       "      <td>2.157027</td>\n",
       "      <td>3.761252</td>\n",
       "      <td>2.742203</td>\n",
       "      <td>3.315393</td>\n",
       "      <td>4.361702</td>\n",
       "      <td>5.620138</td>\n",
       "      <td>9.797482</td>\n",
       "      <td>3.394566</td>\n",
       "      <td>0.911932</td>\n",
       "      <td>1.582138</td>\n",
       "    </tr>\n",
       "    <tr>\n",
       "      <th>2517</th>\n",
       "      <td>5.496946</td>\n",
       "      <td>4.271155</td>\n",
       "      <td>0.729409</td>\n",
       "      <td>2.286805</td>\n",
       "      <td>3.706676</td>\n",
       "      <td>4.644340</td>\n",
       "      <td>1.636014</td>\n",
       "      <td>4.372040</td>\n",
       "      <td>2.713490</td>\n",
       "      <td>6.159136</td>\n",
       "      <td>...</td>\n",
       "      <td>2.151953</td>\n",
       "      <td>3.766313</td>\n",
       "      <td>2.748773</td>\n",
       "      <td>3.302971</td>\n",
       "      <td>4.380694</td>\n",
       "      <td>5.665945</td>\n",
       "      <td>9.644332</td>\n",
       "      <td>3.401821</td>\n",
       "      <td>0.915371</td>\n",
       "      <td>1.589036</td>\n",
       "    </tr>\n",
       "    <tr>\n",
       "      <th>2518</th>\n",
       "      <td>5.456059</td>\n",
       "      <td>4.377868</td>\n",
       "      <td>0.745778</td>\n",
       "      <td>2.307619</td>\n",
       "      <td>3.615007</td>\n",
       "      <td>4.676221</td>\n",
       "      <td>1.636611</td>\n",
       "      <td>4.311995</td>\n",
       "      <td>2.738980</td>\n",
       "      <td>6.144492</td>\n",
       "      <td>...</td>\n",
       "      <td>2.135554</td>\n",
       "      <td>3.830759</td>\n",
       "      <td>2.724531</td>\n",
       "      <td>3.324256</td>\n",
       "      <td>4.338590</td>\n",
       "      <td>5.589073</td>\n",
       "      <td>9.709549</td>\n",
       "      <td>3.339459</td>\n",
       "      <td>0.915577</td>\n",
       "      <td>1.597997</td>\n",
       "    </tr>\n",
       "    <tr>\n",
       "      <th>2519</th>\n",
       "      <td>5.528315</td>\n",
       "      <td>4.394065</td>\n",
       "      <td>0.771662</td>\n",
       "      <td>2.264565</td>\n",
       "      <td>3.629307</td>\n",
       "      <td>4.630557</td>\n",
       "      <td>1.678699</td>\n",
       "      <td>4.341547</td>\n",
       "      <td>2.784422</td>\n",
       "      <td>6.084913</td>\n",
       "      <td>...</td>\n",
       "      <td>2.139206</td>\n",
       "      <td>3.768728</td>\n",
       "      <td>2.709735</td>\n",
       "      <td>3.322819</td>\n",
       "      <td>4.338419</td>\n",
       "      <td>5.571710</td>\n",
       "      <td>9.762578</td>\n",
       "      <td>3.333753</td>\n",
       "      <td>0.929434</td>\n",
       "      <td>1.613753</td>\n",
       "    </tr>\n",
       "    <tr>\n",
       "      <th>2520</th>\n",
       "      <td>5.489330</td>\n",
       "      <td>4.466222</td>\n",
       "      <td>0.759399</td>\n",
       "      <td>2.269037</td>\n",
       "      <td>3.675540</td>\n",
       "      <td>4.535923</td>\n",
       "      <td>1.703933</td>\n",
       "      <td>4.378691</td>\n",
       "      <td>2.832834</td>\n",
       "      <td>6.179738</td>\n",
       "      <td>...</td>\n",
       "      <td>2.128822</td>\n",
       "      <td>3.736475</td>\n",
       "      <td>2.724387</td>\n",
       "      <td>3.273606</td>\n",
       "      <td>4.469427</td>\n",
       "      <td>5.596660</td>\n",
       "      <td>9.896895</td>\n",
       "      <td>3.334194</td>\n",
       "      <td>0.947146</td>\n",
       "      <td>1.615820</td>\n",
       "    </tr>\n",
       "  </tbody>\n",
       "</table>\n",
       "<p>2521 rows × 500 columns</p>\n",
       "</div>"
      ],
      "text/plain": [
       "           0         1         2         3         4         5         6    \\\n",
       "0     1.000000  1.000000  1.000000  1.000000  1.000000  1.000000  1.000000   \n",
       "1     1.002448  0.999951  0.991433  1.004137  1.002805  1.001043  1.006396   \n",
       "2     1.007802  1.013293  0.991999  1.011610  1.012619  1.009716  1.010750   \n",
       "3     1.006836  1.003676  1.003553  1.017434  0.995949  1.008312  1.022280   \n",
       "4     0.989273  1.014476  0.975039  1.030402  1.009989  1.004258  1.020604   \n",
       "...        ...       ...       ...       ...       ...       ...       ...   \n",
       "2516  5.497581  4.209319  0.743821  2.245020  3.665603  4.610720  1.645617   \n",
       "2517  5.496946  4.271155  0.729409  2.286805  3.706676  4.644340  1.636014   \n",
       "2518  5.456059  4.377868  0.745778  2.307619  3.615007  4.676221  1.636611   \n",
       "2519  5.528315  4.394065  0.771662  2.264565  3.629307  4.630557  1.678699   \n",
       "2520  5.489330  4.466222  0.759399  2.269037  3.675540  4.535923  1.703933   \n",
       "\n",
       "           7         8         9    ...       490       491       492  \\\n",
       "0     1.000000  1.000000  1.000000  ...  1.000000  1.000000  1.000000   \n",
       "1     1.009190  0.982460  0.988296  ...  1.009237  0.990697  0.990475   \n",
       "2     1.020684  0.995837  0.983390  ...  1.028544  0.998574  1.011222   \n",
       "3     1.027277  0.990218  0.980179  ...  1.030430  0.982582  1.010357   \n",
       "4     1.006504  0.988376  0.985367  ...  1.023102  1.002418  0.998453   \n",
       "...        ...       ...       ...  ...       ...       ...       ...   \n",
       "2516  4.359217  2.714731  6.103974  ...  2.157027  3.761252  2.742203   \n",
       "2517  4.372040  2.713490  6.159136  ...  2.151953  3.766313  2.748773   \n",
       "2518  4.311995  2.738980  6.144492  ...  2.135554  3.830759  2.724531   \n",
       "2519  4.341547  2.784422  6.084913  ...  2.139206  3.768728  2.709735   \n",
       "2520  4.378691  2.832834  6.179738  ...  2.128822  3.736475  2.724387   \n",
       "\n",
       "           493       494       495       496       497       498       499  \n",
       "0     1.000000  1.000000  1.000000  1.000000  1.000000  1.000000  1.000000  \n",
       "1     1.010984  0.997151  1.026282  1.011754  0.993825  1.005838  0.994336  \n",
       "2     1.010836  1.012831  0.994929  0.990099  0.994530  1.001522  0.981932  \n",
       "3     1.000857  1.031105  0.999501  0.997361  0.989690  1.008496  0.975446  \n",
       "4     1.007224  1.015303  0.987962  1.011784  1.002245  0.996553  0.981997  \n",
       "...        ...       ...       ...       ...       ...       ...       ...  \n",
       "2516  3.315393  4.361702  5.620138  9.797482  3.394566  0.911932  1.582138  \n",
       "2517  3.302971  4.380694  5.665945  9.644332  3.401821  0.915371  1.589036  \n",
       "2518  3.324256  4.338590  5.589073  9.709549  3.339459  0.915577  1.597997  \n",
       "2519  3.322819  4.338419  5.571710  9.762578  3.333753  0.929434  1.613753  \n",
       "2520  3.273606  4.469427  5.596660  9.896895  3.334194  0.947146  1.615820  \n",
       "\n",
       "[2521 rows x 500 columns]"
      ]
     },
     "execution_count": 146,
     "metadata": {},
     "output_type": "execute_result"
    }
   ],
   "source": [
    "# Run the Monte Carlo simulation to forecast 10 years cumulative returns\n",
    "mc_simulation_10yr.calc_cumulative_return()"
   ]
  },
  {
   "cell_type": "code",
   "execution_count": 147,
   "metadata": {},
   "outputs": [
    {
     "data": {
      "text/plain": [
       "<AxesSubplot:title={'center':'500 Simulations of Cumulative Portfolio Return Trajectories Over the Next 2520 Trading Days.'}>"
      ]
     },
     "execution_count": 147,
     "metadata": {},
     "output_type": "execute_result"
    },
    {
     "data": {
      "image/png": "[encoded data removed]",
      "text/plain": [
       "<Figure size 432x288 with 1 Axes>"
      ]
     },
     "metadata": {
      "needs_background": "light"
     },
     "output_type": "display_data"
    }
   ],
   "source": [
    "# Visualize the 10-year Monte Carlo simulation by creating an\n",
    "sim_line_plot_10yr = mc_simulation_10yr.plot_simulation()\n",
    "\n",
    "# YOUR CODE HERE\n",
    "sim_line_plot_10yr"
   ]
  },
  {
   "cell_type": "code",
   "execution_count": 148,
   "metadata": {},
   "outputs": [
    {
     "data": {
      "text/plain": [
       "<AxesSubplot:title={'center':'Distribution of Final Cumuluative Returns Across All 500 Simulations'}, ylabel='Frequency'>"
      ]
     },
     "execution_count": 148,
     "metadata": {},
     "output_type": "execute_result"
    },
    {
     "data": {
      "image/png": "[encoded data removed]",
      "text/plain": [
       "<Figure size 432x288 with 1 Axes>"
      ]
     },
     "metadata": {
      "needs_background": "light"
     },
     "output_type": "display_data"
    }
   ],
   "source": [
    "# Visualize the probability distribution of the 10-year Monte Carlo simulation \n",
    "# by plotting a histogram\n",
    "mc_simulation_10yr.plot_distribution()\n"
   ]
  },
  {
   "cell_type": "code",
   "execution_count": 149,
   "metadata": {},
   "outputs": [
    {
     "data": {
      "text/plain": [
       "count           500.000000\n",
       "mean              3.962001\n",
       "std               2.594977\n",
       "min               0.553536\n",
       "25%               2.134983\n",
       "50%               3.287051\n",
       "75%               4.932365\n",
       "max              16.589951\n",
       "95% CI Lower      1.013075\n",
       "95% CI Upper     10.466004\n",
       "Name: 2520, dtype: float64"
      ]
     },
     "execution_count": 149,
     "metadata": {},
     "output_type": "execute_result"
    }
   ],
   "source": [
    "# Generate summary statistics from the 10-year Monte Carlo simulation results\n",
    "# Save the results as a variable\n",
    "summary_stats_10yr = mc_simulation_10yr.summarize_cumulative_return()\n",
    "\n",
    "# Review the 10-year Monte Carlo summary statistics\n",
    "summary_stats_10yr"
   ]
  },
  {
   "cell_type": "markdown",
   "metadata": {},
   "source": [
    "### Answer the following questions:"
   ]
  },
  {
   "cell_type": "markdown",
   "metadata": {},
   "source": [
    "#### Question: Using the current value of only the stock and bond portion of the member's portfolio and the summary statistics that you generated from the new Monte Carlo simulation, what are the lower and upper bounds for the expected value of the portfolio (with the new weights) with a 95% confidence interval?"
   ]
  },
  {
   "cell_type": "code",
   "execution_count": 150,
   "metadata": {},
   "outputs": [
    {
     "name": "stdout",
     "output_type": "stream",
     "text": [
      "The current balance of the stock and bonds portion of the member's portfolio is: $60689.50\n"
     ]
    }
   ],
   "source": [
    "# Print the current balance of the stock and bond portion of the members portfolio\n",
    "print(f\"The current balance of the stock and bonds portion of the member's portfolio is: ${total_stocks_bonds:.2f}\")\n"
   ]
  },
  {
   "cell_type": "code",
   "execution_count": 151,
   "metadata": {},
   "outputs": [
    {
     "name": "stdout",
     "output_type": "stream",
     "text": [
      "The lower 95% confidence interval is $61483.00\n",
      "The upper 95% confidence interval is $635176.57\n"
     ]
    }
   ],
   "source": [
    "# Use the lower and upper `95%` confidence intervals to calculate the range of the possible outcomes for the current stock/bond portfolio\n",
    "ci_lower_ten_cumulative_return = summary_stats_10yr[8] * total_stocks_bonds\n",
    "ci_upper_ten_cumulative_return = summary_stats_10yr[9] * total_stocks_bonds\n",
    "\n",
    "# Print the result of your calculations\n",
    "print(f\"The lower 95% confidence interval is ${ci_lower_ten_cumulative_return:.2f}\")\n",
    "print(f\"The upper 95% confidence interval is ${ci_upper_ten_cumulative_return:.2f}\")\n"
   ]
  },
  {
   "cell_type": "markdown",
   "metadata": {},
   "source": [
    "#### Question: Will weighting the portfolio more heavily to stocks allow the credit union members to retire after only 10 years?"
   ]
  },
  {
   "cell_type": "raw",
   "metadata": {},
   "source": [
    "**Answer** It will increase the potential but will increase the chances of losing money. Comparing the 30 year simulation with the 10 year simulations it appears that it is best to not retire early."
   ]
  },
  {
   "cell_type": "code",
   "execution_count": null,
   "metadata": {},
   "outputs": [],
   "source": []
  }
 ],
 "metadata": {
  "kernelspec": {
   "display_name": "Python (dev)",
   "language": "python",
   "name": "dev"
  },
  "language_info": {
   "codemirror_mode": {
    "name": "ipython",
    "version": 3
   },
   "file_extension": ".py",
   "mimetype": "text/x-python",
   "name": "python",
   "nbconvert_exporter": "python",
   "pygments_lexer": "ipython3",
   "version": "3.7.10"
  }
 },
 "nbformat": 4,
 "nbformat_minor": 4
}
